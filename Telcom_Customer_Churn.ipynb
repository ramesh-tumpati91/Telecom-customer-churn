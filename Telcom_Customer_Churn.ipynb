{
 "cells": [
  {
   "cell_type": "markdown",
   "metadata": {},
   "source": [
    "# Telcom Customer Churn data visualization and classification"
   ]
  },
  {
   "cell_type": "markdown",
   "metadata": {},
   "source": [
    "The data is to analyze, predict customer behavior to retain customers by analyzing all relevant customer data and develop focused customer retention programs."
   ]
  },
  {
   "cell_type": "markdown",
   "metadata": {},
   "source": [
    "# Attribute Information:\n",
    "\n",
    "1. customerID:- Customer ID\n",
    "2. gender:- Whether the customer is a male or a female\n",
    "3. SeniorCitizen:- Whether the customer is a senior citizen or not (1, 0)\n",
    "4. Partner:- Whether the customer has a partner or not (Yes, No)\n",
    "5. Dependents:- Whether the customer has dependents or not (Yes, No)\n",
    "6. tenure:- Number of months the customer has stayed with the company\n",
    "7. PhoneService:- Whether the customer has a phone service or not (Yes, No)\n",
    "8. MultipleLines:- Whether the customer has multiple lines or not (Yes, No, No phone service)\n",
    "9. InternetService:- Customer’s internet service provider (DSL, Fiber optic, No)\n",
    "10. OnlineSecurity:- Whether the customer has online security or not (Yes, No, No internet service)\n",
    "11. OnlineBackup:- Whether the customer has online backup or not (Yes, No, No internet service)\n",
    "12. DeviceProtection:- Whether the customer has device protection or not (Yes, No, No internet service)\n",
    "13. TechSupport:- Whether the customer has tech support or not (Yes, No, No internet service)\n",
    "14. StreamingTV:- Whether the customer has streaming TV or not (Yes, No, No internet service)\n",
    "15. StreamingMovies:- Whether the customer has streaming movies or not (Yes, No, No internet service)\n",
    "16. Contract:- The contract term of the customer (Month-to-month, One year, Two year)\n",
    "17. PaperlessBilling:- Whether the customer has paperless billing or not (Yes, No)\n",
    "18. PaymentMethod:- The customer’s payment method (Electronic check, Mailed check, Bank transfer (automatic), Credit card (automatic))\n",
    "19. MonthlyCharges:- The amount charged to the customer monthly\n",
    "20. TotalCharges:- The total amount charged to the customer\n",
    "21. Churn:- Whether the customer churned or not (Yes or No)"
   ]
  },
  {
   "cell_type": "code",
   "execution_count": 25,
   "metadata": {
    "collapsed": true
   },
   "outputs": [],
   "source": [
    "import numpy as np\n",
    "import pandas as pd\n",
    "import matplotlib.pyplot as plt\n",
    "import seaborn as sns\n",
    "%matplotlib inline"
   ]
  },
  {
   "cell_type": "code",
   "execution_count": 26,
   "metadata": {
    "collapsed": true
   },
   "outputs": [],
   "source": [
    "from sklearn import preprocessing"
   ]
  },
  {
   "cell_type": "code",
   "execution_count": 27,
   "metadata": {
    "collapsed": true
   },
   "outputs": [],
   "source": [
    "data = pd.read_csv(\"WA_Fn-UseC_-Telco-Customer-Churn.csv\")"
   ]
  },
  {
   "cell_type": "code",
   "execution_count": 28,
   "metadata": {},
   "outputs": [
    {
     "name": "stdout",
     "output_type": "stream",
     "text": [
      "<class 'pandas.core.frame.DataFrame'>\n",
      "RangeIndex: 7043 entries, 0 to 7042\n",
      "Data columns (total 21 columns):\n",
      "customerID          7043 non-null object\n",
      "gender              7043 non-null object\n",
      "SeniorCitizen       7043 non-null int64\n",
      "Partner             7043 non-null object\n",
      "Dependents          7043 non-null object\n",
      "tenure              7043 non-null int64\n",
      "PhoneService        7043 non-null object\n",
      "MultipleLines       7043 non-null object\n",
      "InternetService     7043 non-null object\n",
      "OnlineSecurity      7043 non-null object\n",
      "OnlineBackup        7043 non-null object\n",
      "DeviceProtection    7043 non-null object\n",
      "TechSupport         7043 non-null object\n",
      "StreamingTV         7043 non-null object\n",
      "StreamingMovies     7043 non-null object\n",
      "Contract            7043 non-null object\n",
      "PaperlessBilling    7043 non-null object\n",
      "PaymentMethod       7043 non-null object\n",
      "MonthlyCharges      7043 non-null float64\n",
      "TotalCharges        7043 non-null object\n",
      "Churn               7043 non-null object\n",
      "dtypes: float64(1), int64(2), object(18)\n",
      "memory usage: 1.1+ MB\n"
     ]
    }
   ],
   "source": [
    "data.info()"
   ]
  },
  {
   "cell_type": "code",
   "execution_count": null,
   "metadata": {
    "collapsed": true
   },
   "outputs": [],
   "source": []
  },
  {
   "cell_type": "code",
   "execution_count": 29,
   "metadata": {},
   "outputs": [
    {
     "data": {
      "text/plain": [
       "customerID          7043\n",
       "gender                 2\n",
       "SeniorCitizen          2\n",
       "Partner                2\n",
       "Dependents             2\n",
       "tenure                73\n",
       "PhoneService           2\n",
       "MultipleLines          3\n",
       "InternetService        3\n",
       "OnlineSecurity         3\n",
       "OnlineBackup           3\n",
       "DeviceProtection       3\n",
       "TechSupport            3\n",
       "StreamingTV            3\n",
       "StreamingMovies        3\n",
       "Contract               3\n",
       "PaperlessBilling       2\n",
       "PaymentMethod          4\n",
       "MonthlyCharges      1585\n",
       "TotalCharges        6531\n",
       "Churn                  2\n",
       "dtype: int64"
      ]
     },
     "execution_count": 29,
     "metadata": {},
     "output_type": "execute_result"
    }
   ],
   "source": [
    "data.nunique()"
   ]
  },
  {
   "cell_type": "code",
   "execution_count": null,
   "metadata": {
    "collapsed": true
   },
   "outputs": [],
   "source": []
  },
  {
   "cell_type": "code",
   "execution_count": 30,
   "metadata": {},
   "outputs": [
    {
     "data": {
      "text/html": [
       "<div>\n",
       "<style>\n",
       "    .dataframe thead tr:only-child th {\n",
       "        text-align: right;\n",
       "    }\n",
       "\n",
       "    .dataframe thead th {\n",
       "        text-align: left;\n",
       "    }\n",
       "\n",
       "    .dataframe tbody tr th {\n",
       "        vertical-align: top;\n",
       "    }\n",
       "</style>\n",
       "<table border=\"1\" class=\"dataframe\">\n",
       "  <thead>\n",
       "    <tr style=\"text-align: right;\">\n",
       "      <th></th>\n",
       "      <th>customerID</th>\n",
       "      <th>gender</th>\n",
       "      <th>SeniorCitizen</th>\n",
       "      <th>Partner</th>\n",
       "      <th>Dependents</th>\n",
       "      <th>tenure</th>\n",
       "      <th>PhoneService</th>\n",
       "      <th>MultipleLines</th>\n",
       "      <th>InternetService</th>\n",
       "      <th>OnlineSecurity</th>\n",
       "      <th>...</th>\n",
       "      <th>DeviceProtection</th>\n",
       "      <th>TechSupport</th>\n",
       "      <th>StreamingTV</th>\n",
       "      <th>StreamingMovies</th>\n",
       "      <th>Contract</th>\n",
       "      <th>PaperlessBilling</th>\n",
       "      <th>PaymentMethod</th>\n",
       "      <th>MonthlyCharges</th>\n",
       "      <th>TotalCharges</th>\n",
       "      <th>Churn</th>\n",
       "    </tr>\n",
       "  </thead>\n",
       "  <tbody>\n",
       "    <tr>\n",
       "      <th>0</th>\n",
       "      <td>7590-VHVEG</td>\n",
       "      <td>Female</td>\n",
       "      <td>0</td>\n",
       "      <td>Yes</td>\n",
       "      <td>No</td>\n",
       "      <td>1</td>\n",
       "      <td>No</td>\n",
       "      <td>No phone service</td>\n",
       "      <td>DSL</td>\n",
       "      <td>No</td>\n",
       "      <td>...</td>\n",
       "      <td>No</td>\n",
       "      <td>No</td>\n",
       "      <td>No</td>\n",
       "      <td>No</td>\n",
       "      <td>Month-to-month</td>\n",
       "      <td>Yes</td>\n",
       "      <td>Electronic check</td>\n",
       "      <td>29.85</td>\n",
       "      <td>29.85</td>\n",
       "      <td>No</td>\n",
       "    </tr>\n",
       "    <tr>\n",
       "      <th>1</th>\n",
       "      <td>5575-GNVDE</td>\n",
       "      <td>Male</td>\n",
       "      <td>0</td>\n",
       "      <td>No</td>\n",
       "      <td>No</td>\n",
       "      <td>34</td>\n",
       "      <td>Yes</td>\n",
       "      <td>No</td>\n",
       "      <td>DSL</td>\n",
       "      <td>Yes</td>\n",
       "      <td>...</td>\n",
       "      <td>Yes</td>\n",
       "      <td>No</td>\n",
       "      <td>No</td>\n",
       "      <td>No</td>\n",
       "      <td>One year</td>\n",
       "      <td>No</td>\n",
       "      <td>Mailed check</td>\n",
       "      <td>56.95</td>\n",
       "      <td>1889.5</td>\n",
       "      <td>No</td>\n",
       "    </tr>\n",
       "    <tr>\n",
       "      <th>2</th>\n",
       "      <td>3668-QPYBK</td>\n",
       "      <td>Male</td>\n",
       "      <td>0</td>\n",
       "      <td>No</td>\n",
       "      <td>No</td>\n",
       "      <td>2</td>\n",
       "      <td>Yes</td>\n",
       "      <td>No</td>\n",
       "      <td>DSL</td>\n",
       "      <td>Yes</td>\n",
       "      <td>...</td>\n",
       "      <td>No</td>\n",
       "      <td>No</td>\n",
       "      <td>No</td>\n",
       "      <td>No</td>\n",
       "      <td>Month-to-month</td>\n",
       "      <td>Yes</td>\n",
       "      <td>Mailed check</td>\n",
       "      <td>53.85</td>\n",
       "      <td>108.15</td>\n",
       "      <td>Yes</td>\n",
       "    </tr>\n",
       "    <tr>\n",
       "      <th>3</th>\n",
       "      <td>7795-CFOCW</td>\n",
       "      <td>Male</td>\n",
       "      <td>0</td>\n",
       "      <td>No</td>\n",
       "      <td>No</td>\n",
       "      <td>45</td>\n",
       "      <td>No</td>\n",
       "      <td>No phone service</td>\n",
       "      <td>DSL</td>\n",
       "      <td>Yes</td>\n",
       "      <td>...</td>\n",
       "      <td>Yes</td>\n",
       "      <td>Yes</td>\n",
       "      <td>No</td>\n",
       "      <td>No</td>\n",
       "      <td>One year</td>\n",
       "      <td>No</td>\n",
       "      <td>Bank transfer (automatic)</td>\n",
       "      <td>42.30</td>\n",
       "      <td>1840.75</td>\n",
       "      <td>No</td>\n",
       "    </tr>\n",
       "    <tr>\n",
       "      <th>4</th>\n",
       "      <td>9237-HQITU</td>\n",
       "      <td>Female</td>\n",
       "      <td>0</td>\n",
       "      <td>No</td>\n",
       "      <td>No</td>\n",
       "      <td>2</td>\n",
       "      <td>Yes</td>\n",
       "      <td>No</td>\n",
       "      <td>Fiber optic</td>\n",
       "      <td>No</td>\n",
       "      <td>...</td>\n",
       "      <td>No</td>\n",
       "      <td>No</td>\n",
       "      <td>No</td>\n",
       "      <td>No</td>\n",
       "      <td>Month-to-month</td>\n",
       "      <td>Yes</td>\n",
       "      <td>Electronic check</td>\n",
       "      <td>70.70</td>\n",
       "      <td>151.65</td>\n",
       "      <td>Yes</td>\n",
       "    </tr>\n",
       "  </tbody>\n",
       "</table>\n",
       "<p>5 rows × 21 columns</p>\n",
       "</div>"
      ],
      "text/plain": [
       "   customerID  gender  SeniorCitizen Partner Dependents  tenure PhoneService  \\\n",
       "0  7590-VHVEG  Female              0     Yes         No       1           No   \n",
       "1  5575-GNVDE    Male              0      No         No      34          Yes   \n",
       "2  3668-QPYBK    Male              0      No         No       2          Yes   \n",
       "3  7795-CFOCW    Male              0      No         No      45           No   \n",
       "4  9237-HQITU  Female              0      No         No       2          Yes   \n",
       "\n",
       "      MultipleLines InternetService OnlineSecurity  ...  DeviceProtection  \\\n",
       "0  No phone service             DSL             No  ...                No   \n",
       "1                No             DSL            Yes  ...               Yes   \n",
       "2                No             DSL            Yes  ...                No   \n",
       "3  No phone service             DSL            Yes  ...               Yes   \n",
       "4                No     Fiber optic             No  ...                No   \n",
       "\n",
       "  TechSupport StreamingTV StreamingMovies        Contract PaperlessBilling  \\\n",
       "0          No          No              No  Month-to-month              Yes   \n",
       "1          No          No              No        One year               No   \n",
       "2          No          No              No  Month-to-month              Yes   \n",
       "3         Yes          No              No        One year               No   \n",
       "4          No          No              No  Month-to-month              Yes   \n",
       "\n",
       "               PaymentMethod MonthlyCharges  TotalCharges Churn  \n",
       "0           Electronic check          29.85         29.85    No  \n",
       "1               Mailed check          56.95        1889.5    No  \n",
       "2               Mailed check          53.85        108.15   Yes  \n",
       "3  Bank transfer (automatic)          42.30       1840.75    No  \n",
       "4           Electronic check          70.70        151.65   Yes  \n",
       "\n",
       "[5 rows x 21 columns]"
      ]
     },
     "execution_count": 30,
     "metadata": {},
     "output_type": "execute_result"
    }
   ],
   "source": [
    "data.head(5)"
   ]
  },
  {
   "cell_type": "code",
   "execution_count": 31,
   "metadata": {},
   "outputs": [
    {
     "data": {
      "text/plain": [
       "array(['No', 'Yes', 'No internet service'], dtype=object)"
      ]
     },
     "execution_count": 31,
     "metadata": {},
     "output_type": "execute_result"
    }
   ],
   "source": [
    "data['OnlineSecurity'].unique()"
   ]
  },
  {
   "cell_type": "markdown",
   "metadata": {},
   "source": [
    "# Replacing 'No phone service' or 'No internet service' with 'No'\n",
    "\n",
    "From obserervation, having 'No phone service' or 'No internet service' is equivalent to 'No', so in all the columns in the list Noservice corresponding replacement is done."
   ]
  },
  {
   "cell_type": "code",
   "execution_count": 32,
   "metadata": {
    "collapsed": true
   },
   "outputs": [],
   "source": [
    "Noservice = ['MultipleLines','OnlineSecurity','OnlineBackup','DeviceProtection','TechSupport','StreamingTV','StreamingMovies']"
   ]
  },
  {
   "cell_type": "code",
   "execution_count": 33,
   "metadata": {
    "collapsed": true
   },
   "outputs": [],
   "source": [
    "for x in Noservice:\n",
    "    data[x]=data[x].apply(lambda x: 'Yes'if x=='Yes' else 'No')"
   ]
  },
  {
   "cell_type": "code",
   "execution_count": 34,
   "metadata": {},
   "outputs": [
    {
     "data": {
      "text/plain": [
       "customerID          7043\n",
       "gender                 2\n",
       "SeniorCitizen          2\n",
       "Partner                2\n",
       "Dependents             2\n",
       "tenure                73\n",
       "PhoneService           2\n",
       "MultipleLines          2\n",
       "InternetService        3\n",
       "OnlineSecurity         2\n",
       "OnlineBackup           2\n",
       "DeviceProtection       2\n",
       "TechSupport            2\n",
       "StreamingTV            2\n",
       "StreamingMovies        2\n",
       "Contract               3\n",
       "PaperlessBilling       2\n",
       "PaymentMethod          4\n",
       "MonthlyCharges      1585\n",
       "TotalCharges        6531\n",
       "Churn                  2\n",
       "dtype: int64"
      ]
     },
     "execution_count": 34,
     "metadata": {},
     "output_type": "execute_result"
    }
   ],
   "source": [
    "data.nunique()"
   ]
  },
  {
   "cell_type": "code",
   "execution_count": 35,
   "metadata": {},
   "outputs": [
    {
     "data": {
      "text/plain": [
       "<matplotlib.axes._subplots.AxesSubplot at 0x154b3b70>"
      ]
     },
     "execution_count": 35,
     "metadata": {},
     "output_type": "execute_result"
    },
    {
     "data": {
      "image/png": "[encoded data removed]",
      "text/plain": [
       "<matplotlib.figure.Figure at 0x154b38d0>"
      ]
     },
     "metadata": {},
     "output_type": "display_data"
    }
   ],
   "source": [
    "sns.countplot(x='Churn',data=data,palette='RdBu_r')"
   ]
  },
  {
   "cell_type": "markdown",
   "metadata": {},
   "source": [
    "# Dropping unnecessary column\n",
    "\n",
    "The 'customerID' is random and has no significance in determining any kind of relationship to churn and hence dropped. Here categorical columns are listed out from continuous columns for creating visualizations."
   ]
  },
  {
   "cell_type": "code",
   "execution_count": 36,
   "metadata": {},
   "outputs": [
    {
     "name": "stdout",
     "output_type": "stream",
     "text": [
      "<class 'str'>\n"
     ]
    }
   ],
   "source": [
    "data.drop('customerID',axis=1,inplace=True)\n",
    "l2=['tenure','MonthlyCharges', 'TotalCharges', 'Churn' ]\n",
    "l1=list(data.columns)\n",
    "category_cols=list(filter(lambda x: x not in l2, l1))\n",
    "print(type(category_cols[0]))"
   ]
  },
  {
   "cell_type": "markdown",
   "metadata": {},
   "source": [
    "# Count plot of categorical columns with churn"
   ]
  },
  {
   "cell_type": "code",
   "execution_count": 37,
   "metadata": {},
   "outputs": [
    {
     "data": {
      "image/png": "[encoded data removed]",
      "text/plain": [
       "<matplotlib.figure.Figure at 0x154d9518>"
      ]
     },
     "metadata": {},
     "output_type": "display_data"
    }
   ],
   "source": [
    "fig, axes = plt.subplots(4, 4, figsize=(16, 16))\n",
    "\n",
    "iter=0\n",
    "for x_iter in [0,1,2,3]:\n",
    "    for y_iter in [0,1,2,3]:\n",
    "        abc= category_cols[iter]\n",
    "        sns.countplot( x= \"Churn\", data=data,  hue=abc, orient='v' , ax=axes[x_iter,y_iter])\n",
    "        iter=iter+1\n",
    "fig.tight_layout()"
   ]
  },
  {
   "cell_type": "code",
   "execution_count": 38,
   "metadata": {},
   "outputs": [
    {
     "name": "stdout",
     "output_type": "stream",
     "text": [
      "object\n"
     ]
    }
   ],
   "source": [
    "print(data['TotalCharges'].dtype)"
   ]
  },
  {
   "cell_type": "markdown",
   "metadata": {},
   "source": [
    "# Data wrangling/munging\n",
    "\n",
    "TotalCharges should be numerical but is recoginzed as object by pandas hence it contains some junk values string, \n",
    "hence non-numeric junk values are replace by null value and cleaned"
   ]
  },
  {
   "cell_type": "code",
   "execution_count": 39,
   "metadata": {},
   "outputs": [
    {
     "data": {
      "text/plain": [
       "gender               0\n",
       "SeniorCitizen        0\n",
       "Partner              0\n",
       "Dependents           0\n",
       "tenure               0\n",
       "PhoneService         0\n",
       "MultipleLines        0\n",
       "InternetService      0\n",
       "OnlineSecurity       0\n",
       "OnlineBackup         0\n",
       "DeviceProtection     0\n",
       "TechSupport          0\n",
       "StreamingTV          0\n",
       "StreamingMovies      0\n",
       "Contract             0\n",
       "PaperlessBilling     0\n",
       "PaymentMethod        0\n",
       "MonthlyCharges       0\n",
       "TotalCharges        11\n",
       "Churn                0\n",
       "dtype: int64"
      ]
     },
     "execution_count": 39,
     "metadata": {},
     "output_type": "execute_result"
    }
   ],
   "source": [
    "#Replace non numeric values with null values\n",
    "data['TotalCharges'] = pd.to_numeric(data['TotalCharges'], errors='coerce')\n",
    "data.isnull().sum()"
   ]
  },
  {
   "cell_type": "markdown",
   "metadata": {},
   "source": [
    "'TotalCharges' column contains null values, hence the rows are dropped from the dataframe"
   ]
  },
  {
   "cell_type": "code",
   "execution_count": 43,
   "metadata": {
    "collapsed": true
   },
   "outputs": [],
   "source": [
    "idx =data['TotalCharges'].isnull()\n",
    "data=data[~idx]"
   ]
  },
  {
   "cell_type": "code",
   "execution_count": 45,
   "metadata": {},
   "outputs": [
    {
     "data": {
      "text/plain": [
       "gender              0\n",
       "SeniorCitizen       0\n",
       "Partner             0\n",
       "Dependents          0\n",
       "tenure              0\n",
       "PhoneService        0\n",
       "MultipleLines       0\n",
       "InternetService     0\n",
       "OnlineSecurity      0\n",
       "OnlineBackup        0\n",
       "DeviceProtection    0\n",
       "TechSupport         0\n",
       "StreamingTV         0\n",
       "StreamingMovies     0\n",
       "Contract            0\n",
       "PaperlessBilling    0\n",
       "PaymentMethod       0\n",
       "MonthlyCharges      0\n",
       "TotalCharges        0\n",
       "Churn               0\n",
       "dtype: int64"
      ]
     },
     "execution_count": 45,
     "metadata": {},
     "output_type": "execute_result"
    }
   ],
   "source": [
    "data.isnull().sum()"
   ]
  },
  {
   "cell_type": "markdown",
   "metadata": {},
   "source": [
    "# kde plot of continuous columns with churn"
   ]
  },
  {
   "cell_type": "code",
   "execution_count": 46,
   "metadata": {
    "collapsed": true
   },
   "outputs": [],
   "source": [
    "def conti_Plot(feature):\n",
    "    plt.figure(figsize=(10, 5))\n",
    "    plt.title(\"Pdf for {}\".format(feature))\n",
    "    ax0 = sns.kdeplot(data[data['Churn'] == 'No'][feature].dropna(), color= 'green', label= 'Churn: No')\n",
    "    ax1 = sns.kdeplot(data[data['Churn'] == 'Yes'][feature].dropna(), color= 'red', label= 'Churn: Yes')"
   ]
  },
  {
   "cell_type": "code",
   "execution_count": 47,
   "metadata": {},
   "outputs": [
    {
     "name": "stderr",
     "output_type": "stream",
     "text": [
      "C:\\Users\\Ramesh\\Anaconda3_1\\lib\\site-packages\\scipy\\stats\\stats.py:1633: FutureWarning: Using a non-tuple sequence for multidimensional indexing is deprecated; use `arr[tuple(seq)]` instead of `arr[seq]`. In the future this will be interpreted as an array index, `arr[np.array(seq)]`, which will result either in an error or a different result.\n",
      "  return np.add.reduce(sorted[indexer] * weights, axis=axis) / sumval\n"
     ]
    },
    {
     "data": {
      "image/png": "[encoded data removed]",
      "text/plain": [
       "<matplotlib.figure.Figure at 0x15d95e80>"
      ]
     },
     "metadata": {},
     "output_type": "display_data"
    },
    {
     "data": {
      "image/png": "[encoded data removed]",
      "text/plain": [
       "<matplotlib.figure.Figure at 0x15d95c18>"
      ]
     },
     "metadata": {},
     "output_type": "display_data"
    },
    {
     "data": {
      "image/png": "[encoded data removed]",
      "text/plain": [
       "<matplotlib.figure.Figure at 0x1478dc88>"
      ]
     },
     "metadata": {},
     "output_type": "display_data"
    }
   ],
   "source": [
    "conti_Plot('tenure')\n",
    "conti_Plot('MonthlyCharges')\n",
    "conti_Plot('TotalCharges')"
   ]
  },
  {
   "cell_type": "markdown",
   "metadata": {},
   "source": [
    "Tenure and MonthlyCharges are probably important features"
   ]
  },
  {
   "cell_type": "markdown",
   "metadata": {},
   "source": [
    "# Label encoding categorical columns values "
   ]
  },
  {
   "cell_type": "code",
   "execution_count": 48,
   "metadata": {
    "collapsed": true
   },
   "outputs": [],
   "source": [
    "le = preprocessing.LabelEncoder()\n",
    "for m in category_cols:\n",
    "    data[m]=le.fit_transform(data[m])"
   ]
  },
  {
   "cell_type": "code",
   "execution_count": 49,
   "metadata": {},
   "outputs": [
    {
     "data": {
      "text/html": [
       "<div>\n",
       "<style>\n",
       "    .dataframe thead tr:only-child th {\n",
       "        text-align: right;\n",
       "    }\n",
       "\n",
       "    .dataframe thead th {\n",
       "        text-align: left;\n",
       "    }\n",
       "\n",
       "    .dataframe tbody tr th {\n",
       "        vertical-align: top;\n",
       "    }\n",
       "</style>\n",
       "<table border=\"1\" class=\"dataframe\">\n",
       "  <thead>\n",
       "    <tr style=\"text-align: right;\">\n",
       "      <th></th>\n",
       "      <th>gender</th>\n",
       "      <th>SeniorCitizen</th>\n",
       "      <th>Partner</th>\n",
       "      <th>Dependents</th>\n",
       "      <th>tenure</th>\n",
       "      <th>PhoneService</th>\n",
       "      <th>MultipleLines</th>\n",
       "      <th>InternetService</th>\n",
       "      <th>OnlineSecurity</th>\n",
       "      <th>OnlineBackup</th>\n",
       "      <th>DeviceProtection</th>\n",
       "      <th>TechSupport</th>\n",
       "      <th>StreamingTV</th>\n",
       "      <th>StreamingMovies</th>\n",
       "      <th>Contract</th>\n",
       "      <th>PaperlessBilling</th>\n",
       "      <th>PaymentMethod</th>\n",
       "      <th>MonthlyCharges</th>\n",
       "      <th>TotalCharges</th>\n",
       "      <th>Churn</th>\n",
       "    </tr>\n",
       "  </thead>\n",
       "  <tbody>\n",
       "    <tr>\n",
       "      <th>0</th>\n",
       "      <td>0</td>\n",
       "      <td>0</td>\n",
       "      <td>1</td>\n",
       "      <td>0</td>\n",
       "      <td>1</td>\n",
       "      <td>0</td>\n",
       "      <td>0</td>\n",
       "      <td>0</td>\n",
       "      <td>0</td>\n",
       "      <td>1</td>\n",
       "      <td>0</td>\n",
       "      <td>0</td>\n",
       "      <td>0</td>\n",
       "      <td>0</td>\n",
       "      <td>0</td>\n",
       "      <td>1</td>\n",
       "      <td>2</td>\n",
       "      <td>29.85</td>\n",
       "      <td>29.85</td>\n",
       "      <td>No</td>\n",
       "    </tr>\n",
       "    <tr>\n",
       "      <th>1</th>\n",
       "      <td>1</td>\n",
       "      <td>0</td>\n",
       "      <td>0</td>\n",
       "      <td>0</td>\n",
       "      <td>34</td>\n",
       "      <td>1</td>\n",
       "      <td>0</td>\n",
       "      <td>0</td>\n",
       "      <td>1</td>\n",
       "      <td>0</td>\n",
       "      <td>1</td>\n",
       "      <td>0</td>\n",
       "      <td>0</td>\n",
       "      <td>0</td>\n",
       "      <td>1</td>\n",
       "      <td>0</td>\n",
       "      <td>3</td>\n",
       "      <td>56.95</td>\n",
       "      <td>1889.50</td>\n",
       "      <td>No</td>\n",
       "    </tr>\n",
       "    <tr>\n",
       "      <th>2</th>\n",
       "      <td>1</td>\n",
       "      <td>0</td>\n",
       "      <td>0</td>\n",
       "      <td>0</td>\n",
       "      <td>2</td>\n",
       "      <td>1</td>\n",
       "      <td>0</td>\n",
       "      <td>0</td>\n",
       "      <td>1</td>\n",
       "      <td>1</td>\n",
       "      <td>0</td>\n",
       "      <td>0</td>\n",
       "      <td>0</td>\n",
       "      <td>0</td>\n",
       "      <td>0</td>\n",
       "      <td>1</td>\n",
       "      <td>3</td>\n",
       "      <td>53.85</td>\n",
       "      <td>108.15</td>\n",
       "      <td>Yes</td>\n",
       "    </tr>\n",
       "    <tr>\n",
       "      <th>3</th>\n",
       "      <td>1</td>\n",
       "      <td>0</td>\n",
       "      <td>0</td>\n",
       "      <td>0</td>\n",
       "      <td>45</td>\n",
       "      <td>0</td>\n",
       "      <td>0</td>\n",
       "      <td>0</td>\n",
       "      <td>1</td>\n",
       "      <td>0</td>\n",
       "      <td>1</td>\n",
       "      <td>1</td>\n",
       "      <td>0</td>\n",
       "      <td>0</td>\n",
       "      <td>1</td>\n",
       "      <td>0</td>\n",
       "      <td>0</td>\n",
       "      <td>42.30</td>\n",
       "      <td>1840.75</td>\n",
       "      <td>No</td>\n",
       "    </tr>\n",
       "    <tr>\n",
       "      <th>4</th>\n",
       "      <td>0</td>\n",
       "      <td>0</td>\n",
       "      <td>0</td>\n",
       "      <td>0</td>\n",
       "      <td>2</td>\n",
       "      <td>1</td>\n",
       "      <td>0</td>\n",
       "      <td>1</td>\n",
       "      <td>0</td>\n",
       "      <td>0</td>\n",
       "      <td>0</td>\n",
       "      <td>0</td>\n",
       "      <td>0</td>\n",
       "      <td>0</td>\n",
       "      <td>0</td>\n",
       "      <td>1</td>\n",
       "      <td>2</td>\n",
       "      <td>70.70</td>\n",
       "      <td>151.65</td>\n",
       "      <td>Yes</td>\n",
       "    </tr>\n",
       "  </tbody>\n",
       "</table>\n",
       "</div>"
      ],
      "text/plain": [
       "   gender  SeniorCitizen  Partner  Dependents  tenure  PhoneService  \\\n",
       "0       0              0        1           0       1             0   \n",
       "1       1              0        0           0      34             1   \n",
       "2       1              0        0           0       2             1   \n",
       "3       1              0        0           0      45             0   \n",
       "4       0              0        0           0       2             1   \n",
       "\n",
       "   MultipleLines  InternetService  OnlineSecurity  OnlineBackup  \\\n",
       "0              0                0               0             1   \n",
       "1              0                0               1             0   \n",
       "2              0                0               1             1   \n",
       "3              0                0               1             0   \n",
       "4              0                1               0             0   \n",
       "\n",
       "   DeviceProtection  TechSupport  StreamingTV  StreamingMovies  Contract  \\\n",
       "0                 0            0            0                0         0   \n",
       "1                 1            0            0                0         1   \n",
       "2                 0            0            0                0         0   \n",
       "3                 1            1            0                0         1   \n",
       "4                 0            0            0                0         0   \n",
       "\n",
       "   PaperlessBilling  PaymentMethod  MonthlyCharges  TotalCharges Churn  \n",
       "0                 1              2           29.85         29.85    No  \n",
       "1                 0              3           56.95       1889.50    No  \n",
       "2                 1              3           53.85        108.15   Yes  \n",
       "3                 0              0           42.30       1840.75    No  \n",
       "4                 1              2           70.70        151.65   Yes  "
      ]
     },
     "execution_count": 49,
     "metadata": {},
     "output_type": "execute_result"
    }
   ],
   "source": [
    "data.head()"
   ]
  },
  {
   "cell_type": "code",
   "execution_count": 50,
   "metadata": {
    "collapsed": true
   },
   "outputs": [],
   "source": [
    "#le = preprocessing.LabelEncoder()\n",
    "#data['PaperlessBilling']=le.fit_transform(data['PaperlessBilling'])\n",
    "#data['MultipleLines'] = pd.get_dummies(data['MultipleLines'])"
   ]
  },
  {
   "cell_type": "markdown",
   "metadata": {},
   "source": [
    "# Correlation matrix of all the valables"
   ]
  },
  {
   "cell_type": "code",
   "execution_count": 51,
   "metadata": {},
   "outputs": [
    {
     "data": {
      "text/html": [
       "<style  type=\"text/css\" >\n",
       "    #T_1ab8e4f4_2928_11e9_b96b_78843cebb762row0_col0 {\n",
       "            background-color:  #023858;\n",
       "        }    #T_1ab8e4f4_2928_11e9_b96b_78843cebb762row0_col1 {\n",
       "            background-color:  #e1dfed;\n",
       "        }    #T_1ab8e4f4_2928_11e9_b96b_78843cebb762row0_col2 {\n",
       "            background-color:  #eae6f1;\n",
       "        }    #T_1ab8e4f4_2928_11e9_b96b_78843cebb762row0_col3 {\n",
       "            background-color:  #e0dded;\n",
       "        }    #T_1ab8e4f4_2928_11e9_b96b_78843cebb762row0_col4 {\n",
       "            background-color:  #c8cde4;\n",
       "        }    #T_1ab8e4f4_2928_11e9_b96b_78843cebb762row0_col5 {\n",
       "            background-color:  #f3edf5;\n",
       "        }    #T_1ab8e4f4_2928_11e9_b96b_78843cebb762row0_col6 {\n",
       "            background-color:  #e9e5f1;\n",
       "        }    #T_1ab8e4f4_2928_11e9_b96b_78843cebb762row0_col7 {\n",
       "            background-color:  #c6cce3;\n",
       "        }    #T_1ab8e4f4_2928_11e9_b96b_78843cebb762row0_col8 {\n",
       "            background-color:  #c9cee4;\n",
       "        }    #T_1ab8e4f4_2928_11e9_b96b_78843cebb762row0_col9 {\n",
       "            background-color:  #d5d5e8;\n",
       "        }    #T_1ab8e4f4_2928_11e9_b96b_78843cebb762row0_col10 {\n",
       "            background-color:  #d4d4e8;\n",
       "        }    #T_1ab8e4f4_2928_11e9_b96b_78843cebb762row0_col11 {\n",
       "            background-color:  #c8cde4;\n",
       "        }    #T_1ab8e4f4_2928_11e9_b96b_78843cebb762row0_col12 {\n",
       "            background-color:  #dedcec;\n",
       "        }    #T_1ab8e4f4_2928_11e9_b96b_78843cebb762row0_col13 {\n",
       "            background-color:  #dddbec;\n",
       "        }    #T_1ab8e4f4_2928_11e9_b96b_78843cebb762row0_col14 {\n",
       "            background-color:  #dfddec;\n",
       "        }    #T_1ab8e4f4_2928_11e9_b96b_78843cebb762row0_col15 {\n",
       "            background-color:  #e9e5f1;\n",
       "        }    #T_1ab8e4f4_2928_11e9_b96b_78843cebb762row0_col16 {\n",
       "            background-color:  #c5cce3;\n",
       "        }    #T_1ab8e4f4_2928_11e9_b96b_78843cebb762row0_col17 {\n",
       "            background-color:  #d4d4e8;\n",
       "        }    #T_1ab8e4f4_2928_11e9_b96b_78843cebb762row0_col18 {\n",
       "            background-color:  #d1d2e6;\n",
       "        }    #T_1ab8e4f4_2928_11e9_b96b_78843cebb762row1_col0 {\n",
       "            background-color:  #fdf5fa;\n",
       "        }    #T_1ab8e4f4_2928_11e9_b96b_78843cebb762row1_col1 {\n",
       "            background-color:  #023858;\n",
       "        }    #T_1ab8e4f4_2928_11e9_b96b_78843cebb762row1_col2 {\n",
       "            background-color:  #e7e3f0;\n",
       "        }    #T_1ab8e4f4_2928_11e9_b96b_78843cebb762row1_col3 {\n",
       "            background-color:  #fff7fb;\n",
       "        }    #T_1ab8e4f4_2928_11e9_b96b_78843cebb762row1_col4 {\n",
       "            background-color:  #c5cce3;\n",
       "        }    #T_1ab8e4f4_2928_11e9_b96b_78843cebb762row1_col5 {\n",
       "            background-color:  #f1ebf4;\n",
       "        }    #T_1ab8e4f4_2928_11e9_b96b_78843cebb762row1_col6 {\n",
       "            background-color:  #cacee5;\n",
       "        }    #T_1ab8e4f4_2928_11e9_b96b_78843cebb762row1_col7 {\n",
       "            background-color:  #cdd0e5;\n",
       "        }    #T_1ab8e4f4_2928_11e9_b96b_78843cebb762row1_col8 {\n",
       "            background-color:  #ced0e6;\n",
       "        }    #T_1ab8e4f4_2928_11e9_b96b_78843cebb762row1_col9 {\n",
       "            background-color:  #c2cbe2;\n",
       "        }    #T_1ab8e4f4_2928_11e9_b96b_78843cebb762row1_col10 {\n",
       "            background-color:  #c6cce3;\n",
       "        }    #T_1ab8e4f4_2928_11e9_b96b_78843cebb762row1_col11 {\n",
       "            background-color:  #d3d4e7;\n",
       "        }    #T_1ab8e4f4_2928_11e9_b96b_78843cebb762row1_col12 {\n",
       "            background-color:  #c6cce3;\n",
       "        }    #T_1ab8e4f4_2928_11e9_b96b_78843cebb762row1_col13 {\n",
       "            background-color:  #c1cae2;\n",
       "        }    #T_1ab8e4f4_2928_11e9_b96b_78843cebb762row1_col14 {\n",
       "            background-color:  #f4eef6;\n",
       "        }    #T_1ab8e4f4_2928_11e9_b96b_78843cebb762row1_col15 {\n",
       "            background-color:  #c5cce3;\n",
       "        }    #T_1ab8e4f4_2928_11e9_b96b_78843cebb762row1_col16 {\n",
       "            background-color:  #d2d2e7;\n",
       "        }    #T_1ab8e4f4_2928_11e9_b96b_78843cebb762row1_col17 {\n",
       "            background-color:  #99b8d8;\n",
       "        }    #T_1ab8e4f4_2928_11e9_b96b_78843cebb762row1_col18 {\n",
       "            background-color:  #b7c5df;\n",
       "        }    #T_1ab8e4f4_2928_11e9_b96b_78843cebb762row2_col0 {\n",
       "            background-color:  #fdf5fa;\n",
       "        }    #T_1ab8e4f4_2928_11e9_b96b_78843cebb762row2_col1 {\n",
       "            background-color:  #dedcec;\n",
       "        }    #T_1ab8e4f4_2928_11e9_b96b_78843cebb762row2_col2 {\n",
       "            background-color:  #023858;\n",
       "        }    #T_1ab8e4f4_2928_11e9_b96b_78843cebb762row2_col3 {\n",
       "            background-color:  #5c9fc9;\n",
       "        }    #T_1ab8e4f4_2928_11e9_b96b_78843cebb762row2_col4 {\n",
       "            background-color:  #5c9fc9;\n",
       "        }    #T_1ab8e4f4_2928_11e9_b96b_78843cebb762row2_col5 {\n",
       "            background-color:  #f0eaf4;\n",
       "        }    #T_1ab8e4f4_2928_11e9_b96b_78843cebb762row2_col6 {\n",
       "            background-color:  #cacee5;\n",
       "        }    #T_1ab8e4f4_2928_11e9_b96b_78843cebb762row2_col7 {\n",
       "            background-color:  #c5cce3;\n",
       "        }    #T_1ab8e4f4_2928_11e9_b96b_78843cebb762row2_col8 {\n",
       "            background-color:  #a2bcda;\n",
       "        }    #T_1ab8e4f4_2928_11e9_b96b_78843cebb762row2_col9 {\n",
       "            background-color:  #b0c2de;\n",
       "        }    #T_1ab8e4f4_2928_11e9_b96b_78843cebb762row2_col10 {\n",
       "            background-color:  #adc1dd;\n",
       "        }    #T_1ab8e4f4_2928_11e9_b96b_78843cebb762row2_col11 {\n",
       "            background-color:  #a9bfdc;\n",
       "        }    #T_1ab8e4f4_2928_11e9_b96b_78843cebb762row2_col12 {\n",
       "            background-color:  #c1cae2;\n",
       "        }    #T_1ab8e4f4_2928_11e9_b96b_78843cebb762row2_col13 {\n",
       "            background-color:  #c1cae2;\n",
       "        }    #T_1ab8e4f4_2928_11e9_b96b_78843cebb762row2_col14 {\n",
       "            background-color:  #91b5d6;\n",
       "        }    #T_1ab8e4f4_2928_11e9_b96b_78843cebb762row2_col15 {\n",
       "            background-color:  #e9e5f1;\n",
       "        }    #T_1ab8e4f4_2928_11e9_b96b_78843cebb762row2_col16 {\n",
       "            background-color:  #e6e2ef;\n",
       "        }    #T_1ab8e4f4_2928_11e9_b96b_78843cebb762row2_col17 {\n",
       "            background-color:  #b9c6e0;\n",
       "        }    #T_1ab8e4f4_2928_11e9_b96b_78843cebb762row2_col18 {\n",
       "            background-color:  #79abd0;\n",
       "        }    #T_1ab8e4f4_2928_11e9_b96b_78843cebb762row3_col0 {\n",
       "            background-color:  #fbf4f9;\n",
       "        }    #T_1ab8e4f4_2928_11e9_b96b_78843cebb762row3_col1 {\n",
       "            background-color:  #fff7fb;\n",
       "        }    #T_1ab8e4f4_2928_11e9_b96b_78843cebb762row3_col2 {\n",
       "            background-color:  #67a4cc;\n",
       "        }    #T_1ab8e4f4_2928_11e9_b96b_78843cebb762row3_col3 {\n",
       "            background-color:  #023858;\n",
       "        }    #T_1ab8e4f4_2928_11e9_b96b_78843cebb762row3_col4 {\n",
       "            background-color:  #a1bbda;\n",
       "        }    #T_1ab8e4f4_2928_11e9_b96b_78843cebb762row3_col5 {\n",
       "            background-color:  #f2ecf5;\n",
       "        }    #T_1ab8e4f4_2928_11e9_b96b_78843cebb762row3_col6 {\n",
       "            background-color:  #ece7f2;\n",
       "        }    #T_1ab8e4f4_2928_11e9_b96b_78843cebb762row3_col7 {\n",
       "            background-color:  #bbc7e0;\n",
       "        }    #T_1ab8e4f4_2928_11e9_b96b_78843cebb762row3_col8 {\n",
       "            background-color:  #b3c3de;\n",
       "        }    #T_1ab8e4f4_2928_11e9_b96b_78843cebb762row3_col9 {\n",
       "            background-color:  #ced0e6;\n",
       "        }    #T_1ab8e4f4_2928_11e9_b96b_78843cebb762row3_col10 {\n",
       "            background-color:  #d2d2e7;\n",
       "        }    #T_1ab8e4f4_2928_11e9_b96b_78843cebb762row3_col11 {\n",
       "            background-color:  #b7c5df;\n",
       "        }    #T_1ab8e4f4_2928_11e9_b96b_78843cebb762row3_col12 {\n",
       "            background-color:  #e0dded;\n",
       "        }    #T_1ab8e4f4_2928_11e9_b96b_78843cebb762row3_col13 {\n",
       "            background-color:  #e2dfee;\n",
       "        }    #T_1ab8e4f4_2928_11e9_b96b_78843cebb762row3_col14 {\n",
       "            background-color:  #a4bcda;\n",
       "        }    #T_1ab8e4f4_2928_11e9_b96b_78843cebb762row3_col15 {\n",
       "            background-color:  #f7f0f7;\n",
       "        }    #T_1ab8e4f4_2928_11e9_b96b_78843cebb762row3_col16 {\n",
       "            background-color:  #d2d3e7;\n",
       "        }    #T_1ab8e4f4_2928_11e9_b96b_78843cebb762row3_col17 {\n",
       "            background-color:  #e5e1ef;\n",
       "        }    #T_1ab8e4f4_2928_11e9_b96b_78843cebb762row3_col18 {\n",
       "            background-color:  #c0c9e2;\n",
       "        }    #T_1ab8e4f4_2928_11e9_b96b_78843cebb762row4_col0 {\n",
       "            background-color:  #fcf4fa;\n",
       "        }    #T_1ab8e4f4_2928_11e9_b96b_78843cebb762row4_col1 {\n",
       "            background-color:  #dfddec;\n",
       "        }    #T_1ab8e4f4_2928_11e9_b96b_78843cebb762row4_col2 {\n",
       "            background-color:  #81aed2;\n",
       "        }    #T_1ab8e4f4_2928_11e9_b96b_78843cebb762row4_col3 {\n",
       "            background-color:  #bcc7e1;\n",
       "        }    #T_1ab8e4f4_2928_11e9_b96b_78843cebb762row4_col4 {\n",
       "            background-color:  #023858;\n",
       "        }    #T_1ab8e4f4_2928_11e9_b96b_78843cebb762row4_col5 {\n",
       "            background-color:  #f1ebf4;\n",
       "        }    #T_1ab8e4f4_2928_11e9_b96b_78843cebb762row4_col6 {\n",
       "            background-color:  #8fb4d6;\n",
       "        }    #T_1ab8e4f4_2928_11e9_b96b_78843cebb762row4_col7 {\n",
       "            background-color:  #cdd0e5;\n",
       "        }    #T_1ab8e4f4_2928_11e9_b96b_78843cebb762row4_col8 {\n",
       "            background-color:  #6ba5cd;\n",
       "        }    #T_1ab8e4f4_2928_11e9_b96b_78843cebb762row4_col9 {\n",
       "            background-color:  #6da6cd;\n",
       "        }    #T_1ab8e4f4_2928_11e9_b96b_78843cebb762row4_col10 {\n",
       "            background-color:  #6fa7ce;\n",
       "        }    #T_1ab8e4f4_2928_11e9_b96b_78843cebb762row4_col11 {\n",
       "            background-color:  #6da6cd;\n",
       "        }    #T_1ab8e4f4_2928_11e9_b96b_78843cebb762row4_col12 {\n",
       "            background-color:  #94b6d7;\n",
       "        }    #T_1ab8e4f4_2928_11e9_b96b_78843cebb762row4_col13 {\n",
       "            background-color:  #91b5d6;\n",
       "        }    #T_1ab8e4f4_2928_11e9_b96b_78843cebb762row4_col14 {\n",
       "            background-color:  #0a73b2;\n",
       "        }    #T_1ab8e4f4_2928_11e9_b96b_78843cebb762row4_col15 {\n",
       "            background-color:  #e6e2ef;\n",
       "        }    #T_1ab8e4f4_2928_11e9_b96b_78843cebb762row4_col16 {\n",
       "            background-color:  #fff7fb;\n",
       "        }    #T_1ab8e4f4_2928_11e9_b96b_78843cebb762row4_col17 {\n",
       "            background-color:  #8fb4d6;\n",
       "        }    #T_1ab8e4f4_2928_11e9_b96b_78843cebb762row4_col18 {\n",
       "            background-color:  #045b8e;\n",
       "        }    #T_1ab8e4f4_2928_11e9_b96b_78843cebb762row5_col0 {\n",
       "            background-color:  #fef6fa;\n",
       "        }    #T_1ab8e4f4_2928_11e9_b96b_78843cebb762row5_col1 {\n",
       "            background-color:  #e0dded;\n",
       "        }    #T_1ab8e4f4_2928_11e9_b96b_78843cebb762row5_col2 {\n",
       "            background-color:  #e7e3f0;\n",
       "        }    #T_1ab8e4f4_2928_11e9_b96b_78843cebb762row5_col3 {\n",
       "            background-color:  #e1dfed;\n",
       "        }    #T_1ab8e4f4_2928_11e9_b96b_78843cebb762row5_col4 {\n",
       "            background-color:  #c8cde4;\n",
       "        }    #T_1ab8e4f4_2928_11e9_b96b_78843cebb762row5_col5 {\n",
       "            background-color:  #023858;\n",
       "        }    #T_1ab8e4f4_2928_11e9_b96b_78843cebb762row5_col6 {\n",
       "            background-color:  #a2bcda;\n",
       "        }    #T_1ab8e4f4_2928_11e9_b96b_78843cebb762row5_col7 {\n",
       "            background-color:  #569dc8;\n",
       "        }    #T_1ab8e4f4_2928_11e9_b96b_78843cebb762row5_col8 {\n",
       "            background-color:  #d8d7e9;\n",
       "        }    #T_1ab8e4f4_2928_11e9_b96b_78843cebb762row5_col9 {\n",
       "            background-color:  #dcdaeb;\n",
       "        }    #T_1ab8e4f4_2928_11e9_b96b_78843cebb762row5_col10 {\n",
       "            background-color:  #e0dded;\n",
       "        }    #T_1ab8e4f4_2928_11e9_b96b_78843cebb762row5_col11 {\n",
       "            background-color:  #d9d8ea;\n",
       "        }    #T_1ab8e4f4_2928_11e9_b96b_78843cebb762row5_col12 {\n",
       "            background-color:  #e0deed;\n",
       "        }    #T_1ab8e4f4_2928_11e9_b96b_78843cebb762row5_col13 {\n",
       "            background-color:  #e1dfed;\n",
       "        }    #T_1ab8e4f4_2928_11e9_b96b_78843cebb762row5_col14 {\n",
       "            background-color:  #dedcec;\n",
       "        }    #T_1ab8e4f4_2928_11e9_b96b_78843cebb762row5_col15 {\n",
       "            background-color:  #e4e1ef;\n",
       "        }    #T_1ab8e4f4_2928_11e9_b96b_78843cebb762row5_col16 {\n",
       "            background-color:  #cacee5;\n",
       "        }    #T_1ab8e4f4_2928_11e9_b96b_78843cebb762row5_col17 {\n",
       "            background-color:  #8fb4d6;\n",
       "        }    #T_1ab8e4f4_2928_11e9_b96b_78843cebb762row5_col18 {\n",
       "            background-color:  #b4c4df;\n",
       "        }    #T_1ab8e4f4_2928_11e9_b96b_78843cebb762row6_col0 {\n",
       "            background-color:  #fef6fb;\n",
       "        }    #T_1ab8e4f4_2928_11e9_b96b_78843cebb762row6_col1 {\n",
       "            background-color:  #c2cbe2;\n",
       "        }    #T_1ab8e4f4_2928_11e9_b96b_78843cebb762row6_col2 {\n",
       "            background-color:  #cdd0e5;\n",
       "        }    #T_1ab8e4f4_2928_11e9_b96b_78843cebb762row6_col3 {\n",
       "            background-color:  #e6e2ef;\n",
       "        }    #T_1ab8e4f4_2928_11e9_b96b_78843cebb762row6_col4 {\n",
       "            background-color:  #6da6cd;\n",
       "        }    #T_1ab8e4f4_2928_11e9_b96b_78843cebb762row6_col5 {\n",
       "            background-color:  #b1c2de;\n",
       "        }    #T_1ab8e4f4_2928_11e9_b96b_78843cebb762row6_col6 {\n",
       "            background-color:  #023858;\n",
       "        }    #T_1ab8e4f4_2928_11e9_b96b_78843cebb762row6_col7 {\n",
       "            background-color:  #c2cbe2;\n",
       "        }    #T_1ab8e4f4_2928_11e9_b96b_78843cebb762row6_col8 {\n",
       "            background-color:  #adc1dd;\n",
       "        }    #T_1ab8e4f4_2928_11e9_b96b_78843cebb762row6_col9 {\n",
       "            background-color:  #9fbad9;\n",
       "        }    #T_1ab8e4f4_2928_11e9_b96b_78843cebb762row6_col10 {\n",
       "            background-color:  #a1bbda;\n",
       "        }    #T_1ab8e4f4_2928_11e9_b96b_78843cebb762row6_col11 {\n",
       "            background-color:  #adc1dd;\n",
       "        }    #T_1ab8e4f4_2928_11e9_b96b_78843cebb762row6_col12 {\n",
       "            background-color:  #9cb9d9;\n",
       "        }    #T_1ab8e4f4_2928_11e9_b96b_78843cebb762row6_col13 {\n",
       "            background-color:  #99b8d8;\n",
       "        }    #T_1ab8e4f4_2928_11e9_b96b_78843cebb762row6_col14 {\n",
       "            background-color:  #c8cde4;\n",
       "        }    #T_1ab8e4f4_2928_11e9_b96b_78843cebb762row6_col15 {\n",
       "            background-color:  #c4cbe3;\n",
       "        }    #T_1ab8e4f4_2928_11e9_b96b_78843cebb762row6_col16 {\n",
       "            background-color:  #e7e3f0;\n",
       "        }    #T_1ab8e4f4_2928_11e9_b96b_78843cebb762row6_col17 {\n",
       "            background-color:  #3b92c1;\n",
       "        }    #T_1ab8e4f4_2928_11e9_b96b_78843cebb762row6_col18 {\n",
       "            background-color:  #4295c3;\n",
       "        }    #T_1ab8e4f4_2928_11e9_b96b_78843cebb762row7_col0 {\n",
       "            background-color:  #fdf5fa;\n",
       "        }    #T_1ab8e4f4_2928_11e9_b96b_78843cebb762row7_col1 {\n",
       "            background-color:  #e7e3f0;\n",
       "        }    #T_1ab8e4f4_2928_11e9_b96b_78843cebb762row7_col2 {\n",
       "            background-color:  #eae6f1;\n",
       "        }    #T_1ab8e4f4_2928_11e9_b96b_78843cebb762row7_col3 {\n",
       "            background-color:  #d9d8ea;\n",
       "        }    #T_1ab8e4f4_2928_11e9_b96b_78843cebb762row7_col4 {\n",
       "            background-color:  #d1d2e6;\n",
       "        }    #T_1ab8e4f4_2928_11e9_b96b_78843cebb762row7_col5 {\n",
       "            background-color:  #8cb3d5;\n",
       "        }    #T_1ab8e4f4_2928_11e9_b96b_78843cebb762row7_col6 {\n",
       "            background-color:  #e6e2ef;\n",
       "        }    #T_1ab8e4f4_2928_11e9_b96b_78843cebb762row7_col7 {\n",
       "            background-color:  #023858;\n",
       "        }    #T_1ab8e4f4_2928_11e9_b96b_78843cebb762row7_col8 {\n",
       "            background-color:  #fff7fb;\n",
       "        }    #T_1ab8e4f4_2928_11e9_b96b_78843cebb762row7_col9 {\n",
       "            background-color:  #fff7fb;\n",
       "        }    #T_1ab8e4f4_2928_11e9_b96b_78843cebb762row7_col10 {\n",
       "            background-color:  #fff7fb;\n",
       "        }    #T_1ab8e4f4_2928_11e9_b96b_78843cebb762row7_col11 {\n",
       "            background-color:  #fff7fb;\n",
       "        }    #T_1ab8e4f4_2928_11e9_b96b_78843cebb762row7_col12 {\n",
       "            background-color:  #fff7fb;\n",
       "        }    #T_1ab8e4f4_2928_11e9_b96b_78843cebb762row7_col13 {\n",
       "            background-color:  #fff7fb;\n",
       "        }    #T_1ab8e4f4_2928_11e9_b96b_78843cebb762row7_col14 {\n",
       "            background-color:  #cacee5;\n",
       "        }    #T_1ab8e4f4_2928_11e9_b96b_78843cebb762row7_col15 {\n",
       "            background-color:  #faf3f9;\n",
       "        }    #T_1ab8e4f4_2928_11e9_b96b_78843cebb762row7_col16 {\n",
       "            background-color:  #b5c4df;\n",
       "        }    #T_1ab8e4f4_2928_11e9_b96b_78843cebb762row7_col17 {\n",
       "            background-color:  #fff7fb;\n",
       "        }    #T_1ab8e4f4_2928_11e9_b96b_78843cebb762row7_col18 {\n",
       "            background-color:  #eee8f3;\n",
       "        }    #T_1ab8e4f4_2928_11e9_b96b_78843cebb762row8_col0 {\n",
       "            background-color:  #fff7fb;\n",
       "        }    #T_1ab8e4f4_2928_11e9_b96b_78843cebb762row8_col1 {\n",
       "            background-color:  #e8e4f0;\n",
       "        }    #T_1ab8e4f4_2928_11e9_b96b_78843cebb762row8_col2 {\n",
       "            background-color:  #cdd0e5;\n",
       "        }    #T_1ab8e4f4_2928_11e9_b96b_78843cebb762row8_col3 {\n",
       "            background-color:  #d2d3e7;\n",
       "        }    #T_1ab8e4f4_2928_11e9_b96b_78843cebb762row8_col4 {\n",
       "            background-color:  #6fa7ce;\n",
       "        }    #T_1ab8e4f4_2928_11e9_b96b_78843cebb762row8_col5 {\n",
       "            background-color:  #fff7fb;\n",
       "        }    #T_1ab8e4f4_2928_11e9_b96b_78843cebb762row8_col6 {\n",
       "            background-color:  #d5d5e8;\n",
       "        }    #T_1ab8e4f4_2928_11e9_b96b_78843cebb762row8_col7 {\n",
       "            background-color:  #fff7fb;\n",
       "        }    #T_1ab8e4f4_2928_11e9_b96b_78843cebb762row8_col8 {\n",
       "            background-color:  #023858;\n",
       "        }    #T_1ab8e4f4_2928_11e9_b96b_78843cebb762row8_col9 {\n",
       "            background-color:  #86b0d3;\n",
       "        }    #T_1ab8e4f4_2928_11e9_b96b_78843cebb762row8_col10 {\n",
       "            background-color:  #8bb2d4;\n",
       "        }    #T_1ab8e4f4_2928_11e9_b96b_78843cebb762row8_col11 {\n",
       "            background-color:  #63a2cb;\n",
       "        }    #T_1ab8e4f4_2928_11e9_b96b_78843cebb762row8_col12 {\n",
       "            background-color:  #b4c4df;\n",
       "        }    #T_1ab8e4f4_2928_11e9_b96b_78843cebb762row8_col13 {\n",
       "            background-color:  #afc1dd;\n",
       "        }    #T_1ab8e4f4_2928_11e9_b96b_78843cebb762row8_col14 {\n",
       "            background-color:  #a2bcda;\n",
       "        }    #T_1ab8e4f4_2928_11e9_b96b_78843cebb762row8_col15 {\n",
       "            background-color:  #e7e3f0;\n",
       "        }    #T_1ab8e4f4_2928_11e9_b96b_78843cebb762row8_col16 {\n",
       "            background-color:  #e4e1ef;\n",
       "        }    #T_1ab8e4f4_2928_11e9_b96b_78843cebb762row8_col17 {\n",
       "            background-color:  #81aed2;\n",
       "        }    #T_1ab8e4f4_2928_11e9_b96b_78843cebb762row8_col18 {\n",
       "            background-color:  #589ec8;\n",
       "        }    #T_1ab8e4f4_2928_11e9_b96b_78843cebb762row9_col0 {\n",
       "            background-color:  #fff7fb;\n",
       "        }    #T_1ab8e4f4_2928_11e9_b96b_78843cebb762row9_col1 {\n",
       "            background-color:  #d5d5e8;\n",
       "        }    #T_1ab8e4f4_2928_11e9_b96b_78843cebb762row9_col2 {\n",
       "            background-color:  #ced0e6;\n",
       "        }    #T_1ab8e4f4_2928_11e9_b96b_78843cebb762row9_col3 {\n",
       "            background-color:  #dddbec;\n",
       "        }    #T_1ab8e4f4_2928_11e9_b96b_78843cebb762row9_col4 {\n",
       "            background-color:  #63a2cb;\n",
       "        }    #T_1ab8e4f4_2928_11e9_b96b_78843cebb762row9_col5 {\n",
       "            background-color:  #f9f2f8;\n",
       "        }    #T_1ab8e4f4_2928_11e9_b96b_78843cebb762row9_col6 {\n",
       "            background-color:  #b9c6e0;\n",
       "        }    #T_1ab8e4f4_2928_11e9_b96b_78843cebb762row9_col7 {\n",
       "            background-color:  #f7f0f7;\n",
       "        }    #T_1ab8e4f4_2928_11e9_b96b_78843cebb762row9_col8 {\n",
       "            background-color:  #79abd0;\n",
       "        }    #T_1ab8e4f4_2928_11e9_b96b_78843cebb762row9_col9 {\n",
       "            background-color:  #023858;\n",
       "        }    #T_1ab8e4f4_2928_11e9_b96b_78843cebb762row9_col10 {\n",
       "            background-color:  #81aed2;\n",
       "        }    #T_1ab8e4f4_2928_11e9_b96b_78843cebb762row9_col11 {\n",
       "            background-color:  #78abd0;\n",
       "        }    #T_1ab8e4f4_2928_11e9_b96b_78843cebb762row9_col12 {\n",
       "            background-color:  #94b6d7;\n",
       "        }    #T_1ab8e4f4_2928_11e9_b96b_78843cebb762row9_col13 {\n",
       "            background-color:  #94b6d7;\n",
       "        }    #T_1ab8e4f4_2928_11e9_b96b_78843cebb762row9_col14 {\n",
       "            background-color:  #bbc7e0;\n",
       "        }    #T_1ab8e4f4_2928_11e9_b96b_78843cebb762row9_col15 {\n",
       "            background-color:  #ced0e6;\n",
       "        }    #T_1ab8e4f4_2928_11e9_b96b_78843cebb762row9_col16 {\n",
       "            background-color:  #e7e3f0;\n",
       "        }    #T_1ab8e4f4_2928_11e9_b96b_78843cebb762row9_col17 {\n",
       "            background-color:  #4e9ac6;\n",
       "        }    #T_1ab8e4f4_2928_11e9_b96b_78843cebb762row9_col18 {\n",
       "            background-color:  #348ebf;\n",
       "        }    #T_1ab8e4f4_2928_11e9_b96b_78843cebb762row10_col0 {\n",
       "            background-color:  #fdf5fa;\n",
       "        }    #T_1ab8e4f4_2928_11e9_b96b_78843cebb762row10_col1 {\n",
       "            background-color:  #d6d6e9;\n",
       "        }    #T_1ab8e4f4_2928_11e9_b96b_78843cebb762row10_col2 {\n",
       "            background-color:  #cacee5;\n",
       "        }    #T_1ab8e4f4_2928_11e9_b96b_78843cebb762row10_col3 {\n",
       "            background-color:  #dfddec;\n",
       "        }    #T_1ab8e4f4_2928_11e9_b96b_78843cebb762row10_col4 {\n",
       "            background-color:  #63a2cb;\n",
       "        }    #T_1ab8e4f4_2928_11e9_b96b_78843cebb762row10_col5 {\n",
       "            background-color:  #fcf4fa;\n",
       "        }    #T_1ab8e4f4_2928_11e9_b96b_78843cebb762row10_col6 {\n",
       "            background-color:  #b9c6e0;\n",
       "        }    #T_1ab8e4f4_2928_11e9_b96b_78843cebb762row10_col7 {\n",
       "            background-color:  #f6eff7;\n",
       "        }    #T_1ab8e4f4_2928_11e9_b96b_78843cebb762row10_col8 {\n",
       "            background-color:  #7dacd1;\n",
       "        }    #T_1ab8e4f4_2928_11e9_b96b_78843cebb762row10_col9 {\n",
       "            background-color:  #80aed2;\n",
       "        }    #T_1ab8e4f4_2928_11e9_b96b_78843cebb762row10_col10 {\n",
       "            background-color:  #023858;\n",
       "        }    #T_1ab8e4f4_2928_11e9_b96b_78843cebb762row10_col11 {\n",
       "            background-color:  #6ba5cd;\n",
       "        }    #T_1ab8e4f4_2928_11e9_b96b_78843cebb762row10_col12 {\n",
       "            background-color:  #6fa7ce;\n",
       "        }    #T_1ab8e4f4_2928_11e9_b96b_78843cebb762row10_col13 {\n",
       "            background-color:  #69a5cc;\n",
       "        }    #T_1ab8e4f4_2928_11e9_b96b_78843cebb762row10_col14 {\n",
       "            background-color:  #a9bfdc;\n",
       "        }    #T_1ab8e4f4_2928_11e9_b96b_78843cebb762row10_col15 {\n",
       "            background-color:  #d3d4e7;\n",
       "        }    #T_1ab8e4f4_2928_11e9_b96b_78843cebb762row10_col16 {\n",
       "            background-color:  #e9e5f1;\n",
       "        }    #T_1ab8e4f4_2928_11e9_b96b_78843cebb762row10_col17 {\n",
       "            background-color:  #3f93c2;\n",
       "        }    #T_1ab8e4f4_2928_11e9_b96b_78843cebb762row10_col18 {\n",
       "            background-color:  #2f8bbe;\n",
       "        }    #T_1ab8e4f4_2928_11e9_b96b_78843cebb762row11_col0 {\n",
       "            background-color:  #fef6fb;\n",
       "        }    #T_1ab8e4f4_2928_11e9_b96b_78843cebb762row11_col1 {\n",
       "            background-color:  #ede7f2;\n",
       "        }    #T_1ab8e4f4_2928_11e9_b96b_78843cebb762row11_col2 {\n",
       "            background-color:  #d2d3e7;\n",
       "        }    #T_1ab8e4f4_2928_11e9_b96b_78843cebb762row11_col3 {\n",
       "            background-color:  #d6d6e9;\n",
       "        }    #T_1ab8e4f4_2928_11e9_b96b_78843cebb762row11_col4 {\n",
       "            background-color:  #71a8ce;\n",
       "        }    #T_1ab8e4f4_2928_11e9_b96b_78843cebb762row11_col5 {\n",
       "            background-color:  #fff7fb;\n",
       "        }    #T_1ab8e4f4_2928_11e9_b96b_78843cebb762row11_col6 {\n",
       "            background-color:  #d4d4e8;\n",
       "        }    #T_1ab8e4f4_2928_11e9_b96b_78843cebb762row11_col7 {\n",
       "            background-color:  #fff7fb;\n",
       "        }    #T_1ab8e4f4_2928_11e9_b96b_78843cebb762row11_col8 {\n",
       "            background-color:  #62a2cb;\n",
       "        }    #T_1ab8e4f4_2928_11e9_b96b_78843cebb762row11_col9 {\n",
       "            background-color:  #83afd3;\n",
       "        }    #T_1ab8e4f4_2928_11e9_b96b_78843cebb762row11_col10 {\n",
       "            background-color:  #78abd0;\n",
       "        }    #T_1ab8e4f4_2928_11e9_b96b_78843cebb762row11_col11 {\n",
       "            background-color:  #023858;\n",
       "        }    #T_1ab8e4f4_2928_11e9_b96b_78843cebb762row11_col12 {\n",
       "            background-color:  #94b6d7;\n",
       "        }    #T_1ab8e4f4_2928_11e9_b96b_78843cebb762row11_col13 {\n",
       "            background-color:  #93b5d6;\n",
       "        }    #T_1ab8e4f4_2928_11e9_b96b_78843cebb762row11_col14 {\n",
       "            background-color:  #91b5d6;\n",
       "        }    #T_1ab8e4f4_2928_11e9_b96b_78843cebb762row11_col15 {\n",
       "            background-color:  #e0dded;\n",
       "        }    #T_1ab8e4f4_2928_11e9_b96b_78843cebb762row11_col16 {\n",
       "            background-color:  #e6e2ef;\n",
       "        }    #T_1ab8e4f4_2928_11e9_b96b_78843cebb762row11_col17 {\n",
       "            background-color:  #75a9cf;\n",
       "        }    #T_1ab8e4f4_2928_11e9_b96b_78843cebb762row11_col18 {\n",
       "            background-color:  #509ac6;\n",
       "        }    #T_1ab8e4f4_2928_11e9_b96b_78843cebb762row12_col0 {\n",
       "            background-color:  #fef6fa;\n",
       "        }    #T_1ab8e4f4_2928_11e9_b96b_78843cebb762row12_col1 {\n",
       "            background-color:  #cdd0e5;\n",
       "        }    #T_1ab8e4f4_2928_11e9_b96b_78843cebb762row12_col2 {\n",
       "            background-color:  #d2d2e7;\n",
       "        }    #T_1ab8e4f4_2928_11e9_b96b_78843cebb762row12_col3 {\n",
       "            background-color:  #e4e1ef;\n",
       "        }    #T_1ab8e4f4_2928_11e9_b96b_78843cebb762row12_col4 {\n",
       "            background-color:  #7eadd1;\n",
       "        }    #T_1ab8e4f4_2928_11e9_b96b_78843cebb762row12_col5 {\n",
       "            background-color:  #f5eef6;\n",
       "        }    #T_1ab8e4f4_2928_11e9_b96b_78843cebb762row12_col6 {\n",
       "            background-color:  #a9bfdc;\n",
       "        }    #T_1ab8e4f4_2928_11e9_b96b_78843cebb762row12_col7 {\n",
       "            background-color:  #efe9f3;\n",
       "        }    #T_1ab8e4f4_2928_11e9_b96b_78843cebb762row12_col8 {\n",
       "            background-color:  #99b8d8;\n",
       "        }    #T_1ab8e4f4_2928_11e9_b96b_78843cebb762row12_col9 {\n",
       "            background-color:  #86b0d3;\n",
       "        }    #T_1ab8e4f4_2928_11e9_b96b_78843cebb762row12_col10 {\n",
       "            background-color:  #63a2cb;\n",
       "        }    #T_1ab8e4f4_2928_11e9_b96b_78843cebb762row12_col11 {\n",
       "            background-color:  #7dacd1;\n",
       "        }    #T_1ab8e4f4_2928_11e9_b96b_78843cebb762row12_col12 {\n",
       "            background-color:  #023858;\n",
       "        }    #T_1ab8e4f4_2928_11e9_b96b_78843cebb762row12_col13 {\n",
       "            background-color:  #358fc0;\n",
       "        }    #T_1ab8e4f4_2928_11e9_b96b_78843cebb762row12_col14 {\n",
       "            background-color:  #c9cee4;\n",
       "        }    #T_1ab8e4f4_2928_11e9_b96b_78843cebb762row12_col15 {\n",
       "            background-color:  #b1c2de;\n",
       "        }    #T_1ab8e4f4_2928_11e9_b96b_78843cebb762row12_col16 {\n",
       "            background-color:  #e4e1ef;\n",
       "        }    #T_1ab8e4f4_2928_11e9_b96b_78843cebb762row12_col17 {\n",
       "            background-color:  #1077b4;\n",
       "        }    #T_1ab8e4f4_2928_11e9_b96b_78843cebb762row12_col18 {\n",
       "            background-color:  #328dbf;\n",
       "        }    #T_1ab8e4f4_2928_11e9_b96b_78843cebb762row13_col0 {\n",
       "            background-color:  #fef6fb;\n",
       "        }    #T_1ab8e4f4_2928_11e9_b96b_78843cebb762row13_col1 {\n",
       "            background-color:  #c9cee4;\n",
       "        }    #T_1ab8e4f4_2928_11e9_b96b_78843cebb762row13_col2 {\n",
       "            background-color:  #d3d4e7;\n",
       "        }    #T_1ab8e4f4_2928_11e9_b96b_78843cebb762row13_col3 {\n",
       "            background-color:  #e8e4f0;\n",
       "        }    #T_1ab8e4f4_2928_11e9_b96b_78843cebb762row13_col4 {\n",
       "            background-color:  #7dacd1;\n",
       "        }    #T_1ab8e4f4_2928_11e9_b96b_78843cebb762row13_col5 {\n",
       "            background-color:  #f7f0f7;\n",
       "        }    #T_1ab8e4f4_2928_11e9_b96b_78843cebb762row13_col6 {\n",
       "            background-color:  #a8bedc;\n",
       "        }    #T_1ab8e4f4_2928_11e9_b96b_78843cebb762row13_col7 {\n",
       "            background-color:  #f0eaf4;\n",
       "        }    #T_1ab8e4f4_2928_11e9_b96b_78843cebb762row13_col8 {\n",
       "            background-color:  #96b6d7;\n",
       "        }    #T_1ab8e4f4_2928_11e9_b96b_78843cebb762row13_col9 {\n",
       "            background-color:  #89b1d4;\n",
       "        }    #T_1ab8e4f4_2928_11e9_b96b_78843cebb762row13_col10 {\n",
       "            background-color:  #60a1ca;\n",
       "        }    #T_1ab8e4f4_2928_11e9_b96b_78843cebb762row13_col11 {\n",
       "            background-color:  #7bacd1;\n",
       "        }    #T_1ab8e4f4_2928_11e9_b96b_78843cebb762row13_col12 {\n",
       "            background-color:  #3790c0;\n",
       "        }    #T_1ab8e4f4_2928_11e9_b96b_78843cebb762row13_col13 {\n",
       "            background-color:  #023858;\n",
       "        }    #T_1ab8e4f4_2928_11e9_b96b_78843cebb762row13_col14 {\n",
       "            background-color:  #c8cde4;\n",
       "        }    #T_1ab8e4f4_2928_11e9_b96b_78843cebb762row13_col15 {\n",
       "            background-color:  #b5c4df;\n",
       "        }    #T_1ab8e4f4_2928_11e9_b96b_78843cebb762row13_col16 {\n",
       "            background-color:  #e5e1ef;\n",
       "        }    #T_1ab8e4f4_2928_11e9_b96b_78843cebb762row13_col17 {\n",
       "            background-color:  #1278b4;\n",
       "        }    #T_1ab8e4f4_2928_11e9_b96b_78843cebb762row13_col18 {\n",
       "            background-color:  #308cbe;\n",
       "        }    #T_1ab8e4f4_2928_11e9_b96b_78843cebb762row14_col0 {\n",
       "            background-color:  #fdf5fa;\n",
       "        }    #T_1ab8e4f4_2928_11e9_b96b_78843cebb762row14_col1 {\n",
       "            background-color:  #f7f0f7;\n",
       "        }    #T_1ab8e4f4_2928_11e9_b96b_78843cebb762row14_col2 {\n",
       "            background-color:  #a1bbda;\n",
       "        }    #T_1ab8e4f4_2928_11e9_b96b_78843cebb762row14_col3 {\n",
       "            background-color:  #a7bddb;\n",
       "        }    #T_1ab8e4f4_2928_11e9_b96b_78843cebb762row14_col4 {\n",
       "            background-color:  #056dac;\n",
       "        }    #T_1ab8e4f4_2928_11e9_b96b_78843cebb762row14_col5 {\n",
       "            background-color:  #f2ecf5;\n",
       "        }    #T_1ab8e4f4_2928_11e9_b96b_78843cebb762row14_col6 {\n",
       "            background-color:  #d3d4e7;\n",
       "        }    #T_1ab8e4f4_2928_11e9_b96b_78843cebb762row14_col7 {\n",
       "            background-color:  #adc1dd;\n",
       "        }    #T_1ab8e4f4_2928_11e9_b96b_78843cebb762row14_col8 {\n",
       "            background-color:  #84b0d3;\n",
       "        }    #T_1ab8e4f4_2928_11e9_b96b_78843cebb762row14_col9 {\n",
       "            background-color:  #acc0dd;\n",
       "        }    #T_1ab8e4f4_2928_11e9_b96b_78843cebb762row14_col10 {\n",
       "            background-color:  #9ab8d8;\n",
       "        }    #T_1ab8e4f4_2928_11e9_b96b_78843cebb762row14_col11 {\n",
       "            background-color:  #78abd0;\n",
       "        }    #T_1ab8e4f4_2928_11e9_b96b_78843cebb762row14_col12 {\n",
       "            background-color:  #c6cce3;\n",
       "        }    #T_1ab8e4f4_2928_11e9_b96b_78843cebb762row14_col13 {\n",
       "            background-color:  #c4cbe3;\n",
       "        }    #T_1ab8e4f4_2928_11e9_b96b_78843cebb762row14_col14 {\n",
       "            background-color:  #023858;\n",
       "        }    #T_1ab8e4f4_2928_11e9_b96b_78843cebb762row14_col15 {\n",
       "            background-color:  #fff7fb;\n",
       "        }    #T_1ab8e4f4_2928_11e9_b96b_78843cebb762row14_col16 {\n",
       "            background-color:  #f0eaf4;\n",
       "        }    #T_1ab8e4f4_2928_11e9_b96b_78843cebb762row14_col17 {\n",
       "            background-color:  #dedcec;\n",
       "        }    #T_1ab8e4f4_2928_11e9_b96b_78843cebb762row14_col18 {\n",
       "            background-color:  #4897c4;\n",
       "        }    #T_1ab8e4f4_2928_11e9_b96b_78843cebb762row15_col0 {\n",
       "            background-color:  #fef6fb;\n",
       "        }    #T_1ab8e4f4_2928_11e9_b96b_78843cebb762row15_col1 {\n",
       "            background-color:  #bfc9e1;\n",
       "        }    #T_1ab8e4f4_2928_11e9_b96b_78843cebb762row15_col2 {\n",
       "            background-color:  #ede7f2;\n",
       "        }    #T_1ab8e4f4_2928_11e9_b96b_78843cebb762row15_col3 {\n",
       "            background-color:  #f2ecf5;\n",
       "        }    #T_1ab8e4f4_2928_11e9_b96b_78843cebb762row15_col4 {\n",
       "            background-color:  #c8cde4;\n",
       "        }    #T_1ab8e4f4_2928_11e9_b96b_78843cebb762row15_col5 {\n",
       "            background-color:  #f0eaf4;\n",
       "        }    #T_1ab8e4f4_2928_11e9_b96b_78843cebb762row15_col6 {\n",
       "            background-color:  #c4cbe3;\n",
       "        }    #T_1ab8e4f4_2928_11e9_b96b_78843cebb762row15_col7 {\n",
       "            background-color:  #e0dded;\n",
       "        }    #T_1ab8e4f4_2928_11e9_b96b_78843cebb762row15_col8 {\n",
       "            background-color:  #c6cce3;\n",
       "        }    #T_1ab8e4f4_2928_11e9_b96b_78843cebb762row15_col9 {\n",
       "            background-color:  #b4c4df;\n",
       "        }    #T_1ab8e4f4_2928_11e9_b96b_78843cebb762row15_col10 {\n",
       "            background-color:  #bbc7e0;\n",
       "        }    #T_1ab8e4f4_2928_11e9_b96b_78843cebb762row15_col11 {\n",
       "            background-color:  #bdc8e1;\n",
       "        }    #T_1ab8e4f4_2928_11e9_b96b_78843cebb762row15_col12 {\n",
       "            background-color:  #a5bddb;\n",
       "        }    #T_1ab8e4f4_2928_11e9_b96b_78843cebb762row15_col13 {\n",
       "            background-color:  #a8bedc;\n",
       "        }    #T_1ab8e4f4_2928_11e9_b96b_78843cebb762row15_col14 {\n",
       "            background-color:  #f8f1f8;\n",
       "        }    #T_1ab8e4f4_2928_11e9_b96b_78843cebb762row15_col15 {\n",
       "            background-color:  #023858;\n",
       "        }    #T_1ab8e4f4_2928_11e9_b96b_78843cebb762row15_col16 {\n",
       "            background-color:  #d6d6e9;\n",
       "        }    #T_1ab8e4f4_2928_11e9_b96b_78843cebb762row15_col17 {\n",
       "            background-color:  #6fa7ce;\n",
       "        }    #T_1ab8e4f4_2928_11e9_b96b_78843cebb762row15_col18 {\n",
       "            background-color:  #a9bfdc;\n",
       "        }    #T_1ab8e4f4_2928_11e9_b96b_78843cebb762row16_col0 {\n",
       "            background-color:  #faf3f9;\n",
       "        }    #T_1ab8e4f4_2928_11e9_b96b_78843cebb762row16_col1 {\n",
       "            background-color:  #e8e4f0;\n",
       "        }    #T_1ab8e4f4_2928_11e9_b96b_78843cebb762row16_col2 {\n",
       "            background-color:  #fff7fb;\n",
       "        }    #T_1ab8e4f4_2928_11e9_b96b_78843cebb762row16_col3 {\n",
       "            background-color:  #e9e5f1;\n",
       "        }    #T_1ab8e4f4_2928_11e9_b96b_78843cebb762row16_col4 {\n",
       "            background-color:  #fff7fb;\n",
       "        }    #T_1ab8e4f4_2928_11e9_b96b_78843cebb762row16_col5 {\n",
       "            background-color:  #f3edf5;\n",
       "        }    #T_1ab8e4f4_2928_11e9_b96b_78843cebb762row16_col6 {\n",
       "            background-color:  #fff7fb;\n",
       "        }    #T_1ab8e4f4_2928_11e9_b96b_78843cebb762row16_col7 {\n",
       "            background-color:  #b1c2de;\n",
       "        }    #T_1ab8e4f4_2928_11e9_b96b_78843cebb762row16_col8 {\n",
       "            background-color:  #e1dfed;\n",
       "        }    #T_1ab8e4f4_2928_11e9_b96b_78843cebb762row16_col9 {\n",
       "            background-color:  #efe9f3;\n",
       "        }    #T_1ab8e4f4_2928_11e9_b96b_78843cebb762row16_col10 {\n",
       "            background-color:  #f1ebf4;\n",
       "        }    #T_1ab8e4f4_2928_11e9_b96b_78843cebb762row16_col11 {\n",
       "            background-color:  #e3e0ee;\n",
       "        }    #T_1ab8e4f4_2928_11e9_b96b_78843cebb762row16_col12 {\n",
       "            background-color:  #f4edf6;\n",
       "        }    #T_1ab8e4f4_2928_11e9_b96b_78843cebb762row16_col13 {\n",
       "            background-color:  #f4edf6;\n",
       "        }    #T_1ab8e4f4_2928_11e9_b96b_78843cebb762row16_col14 {\n",
       "            background-color:  #fff7fb;\n",
       "        }    #T_1ab8e4f4_2928_11e9_b96b_78843cebb762row16_col15 {\n",
       "            background-color:  #f1ebf4;\n",
       "        }    #T_1ab8e4f4_2928_11e9_b96b_78843cebb762row16_col16 {\n",
       "            background-color:  #023858;\n",
       "        }    #T_1ab8e4f4_2928_11e9_b96b_78843cebb762row16_col17 {\n",
       "            background-color:  #f0eaf4;\n",
       "        }    #T_1ab8e4f4_2928_11e9_b96b_78843cebb762row16_col18 {\n",
       "            background-color:  #fff7fb;\n",
       "        }    #T_1ab8e4f4_2928_11e9_b96b_78843cebb762row17_col0 {\n",
       "            background-color:  #fff7fb;\n",
       "        }    #T_1ab8e4f4_2928_11e9_b96b_78843cebb762row17_col1 {\n",
       "            background-color:  #acc0dd;\n",
       "        }    #T_1ab8e4f4_2928_11e9_b96b_78843cebb762row17_col2 {\n",
       "            background-color:  #d7d6e9;\n",
       "        }    #T_1ab8e4f4_2928_11e9_b96b_78843cebb762row17_col3 {\n",
       "            background-color:  #f3edf5;\n",
       "        }    #T_1ab8e4f4_2928_11e9_b96b_78843cebb762row17_col4 {\n",
       "            background-color:  #88b1d4;\n",
       "        }    #T_1ab8e4f4_2928_11e9_b96b_78843cebb762row17_col5 {\n",
       "            background-color:  #bbc7e0;\n",
       "        }    #T_1ab8e4f4_2928_11e9_b96b_78843cebb762row17_col6 {\n",
       "            background-color:  #549cc7;\n",
       "        }    #T_1ab8e4f4_2928_11e9_b96b_78843cebb762row17_col7 {\n",
       "            background-color:  #f8f1f8;\n",
       "        }    #T_1ab8e4f4_2928_11e9_b96b_78843cebb762row17_col8 {\n",
       "            background-color:  #76aad0;\n",
       "        }    #T_1ab8e4f4_2928_11e9_b96b_78843cebb762row17_col9 {\n",
       "            background-color:  #4e9ac6;\n",
       "        }    #T_1ab8e4f4_2928_11e9_b96b_78843cebb762row17_col10 {\n",
       "            background-color:  #4094c3;\n",
       "        }    #T_1ab8e4f4_2928_11e9_b96b_78843cebb762row17_col11 {\n",
       "            background-color:  #67a4cc;\n",
       "        }    #T_1ab8e4f4_2928_11e9_b96b_78843cebb762row17_col12 {\n",
       "            background-color:  #187cb6;\n",
       "        }    #T_1ab8e4f4_2928_11e9_b96b_78843cebb762row17_col13 {\n",
       "            background-color:  #187cb6;\n",
       "        }    #T_1ab8e4f4_2928_11e9_b96b_78843cebb762row17_col14 {\n",
       "            background-color:  #ece7f2;\n",
       "        }    #T_1ab8e4f4_2928_11e9_b96b_78843cebb762row17_col15 {\n",
       "            background-color:  #89b1d4;\n",
       "        }    #T_1ab8e4f4_2928_11e9_b96b_78843cebb762row17_col16 {\n",
       "            background-color:  #ebe6f2;\n",
       "        }    #T_1ab8e4f4_2928_11e9_b96b_78843cebb762row17_col17 {\n",
       "            background-color:  #023858;\n",
       "        }    #T_1ab8e4f4_2928_11e9_b96b_78843cebb762row17_col18 {\n",
       "            background-color:  #0a73b2;\n",
       "        }    #T_1ab8e4f4_2928_11e9_b96b_78843cebb762row18_col0 {\n",
       "            background-color:  #fdf5fa;\n",
       "        }    #T_1ab8e4f4_2928_11e9_b96b_78843cebb762row18_col1 {\n",
       "            background-color:  #cdd0e5;\n",
       "        }    #T_1ab8e4f4_2928_11e9_b96b_78843cebb762row18_col2 {\n",
       "            background-color:  #97b7d7;\n",
       "        }    #T_1ab8e4f4_2928_11e9_b96b_78843cebb762row18_col3 {\n",
       "            background-color:  #d5d5e8;\n",
       "        }    #T_1ab8e4f4_2928_11e9_b96b_78843cebb762row18_col4 {\n",
       "            background-color:  #045a8d;\n",
       "        }    #T_1ab8e4f4_2928_11e9_b96b_78843cebb762row18_col5 {\n",
       "            background-color:  #dedcec;\n",
       "        }    #T_1ab8e4f4_2928_11e9_b96b_78843cebb762row18_col6 {\n",
       "            background-color:  #5ea0ca;\n",
       "        }    #T_1ab8e4f4_2928_11e9_b96b_78843cebb762row18_col7 {\n",
       "            background-color:  #e6e2ef;\n",
       "        }    #T_1ab8e4f4_2928_11e9_b96b_78843cebb762row18_col8 {\n",
       "            background-color:  #4e9ac6;\n",
       "        }    #T_1ab8e4f4_2928_11e9_b96b_78843cebb762row18_col9 {\n",
       "            background-color:  #358fc0;\n",
       "        }    #T_1ab8e4f4_2928_11e9_b96b_78843cebb762row18_col10 {\n",
       "            background-color:  #328dbf;\n",
       "        }    #T_1ab8e4f4_2928_11e9_b96b_78843cebb762row18_col11 {\n",
       "            background-color:  #4697c4;\n",
       "        }    #T_1ab8e4f4_2928_11e9_b96b_78843cebb762row18_col12 {\n",
       "            background-color:  #3d93c2;\n",
       "        }    #T_1ab8e4f4_2928_11e9_b96b_78843cebb762row18_col13 {\n",
       "            background-color:  #3b92c1;\n",
       "        }    #T_1ab8e4f4_2928_11e9_b96b_78843cebb762row18_col14 {\n",
       "            background-color:  #5a9ec9;\n",
       "        }    #T_1ab8e4f4_2928_11e9_b96b_78843cebb762row18_col15 {\n",
       "            background-color:  #c5cce3;\n",
       "        }    #T_1ab8e4f4_2928_11e9_b96b_78843cebb762row18_col16 {\n",
       "            background-color:  #fbf3f9;\n",
       "        }    #T_1ab8e4f4_2928_11e9_b96b_78843cebb762row18_col17 {\n",
       "            background-color:  #0a73b2;\n",
       "        }    #T_1ab8e4f4_2928_11e9_b96b_78843cebb762row18_col18 {\n",
       "            background-color:  #023858;\n",
       "        }</style>  \n",
       "<table id=\"T_1ab8e4f4_2928_11e9_b96b_78843cebb762\" > \n",
       "<thead>    <tr> \n",
       "        <th class=\"blank level0\" ></th> \n",
       "        <th class=\"col_heading level0 col0\" >gender</th> \n",
       "        <th class=\"col_heading level0 col1\" >SeniorCitizen</th> \n",
       "        <th class=\"col_heading level0 col2\" >Partner</th> \n",
       "        <th class=\"col_heading level0 col3\" >Dependents</th> \n",
       "        <th class=\"col_heading level0 col4\" >tenure</th> \n",
       "        <th class=\"col_heading level0 col5\" >PhoneService</th> \n",
       "        <th class=\"col_heading level0 col6\" >MultipleLines</th> \n",
       "        <th class=\"col_heading level0 col7\" >InternetService</th> \n",
       "        <th class=\"col_heading level0 col8\" >OnlineSecurity</th> \n",
       "        <th class=\"col_heading level0 col9\" >OnlineBackup</th> \n",
       "        <th class=\"col_heading level0 col10\" >DeviceProtection</th> \n",
       "        <th class=\"col_heading level0 col11\" >TechSupport</th> \n",
       "        <th class=\"col_heading level0 col12\" >StreamingTV</th> \n",
       "        <th class=\"col_heading level0 col13\" >StreamingMovies</th> \n",
       "        <th class=\"col_heading level0 col14\" >Contract</th> \n",
       "        <th class=\"col_heading level0 col15\" >PaperlessBilling</th> \n",
       "        <th class=\"col_heading level0 col16\" >PaymentMethod</th> \n",
       "        <th class=\"col_heading level0 col17\" >MonthlyCharges</th> \n",
       "        <th class=\"col_heading level0 col18\" >TotalCharges</th> \n",
       "    </tr></thead> \n",
       "<tbody>    <tr> \n",
       "        <th id=\"T_1ab8e4f4_2928_11e9_b96b_78843cebb762\" class=\"row_heading level0 row0\" >gender</th> \n",
       "        <td id=\"T_1ab8e4f4_2928_11e9_b96b_78843cebb762row0_col0\" class=\"data row0 col0\" >1</td> \n",
       "        <td id=\"T_1ab8e4f4_2928_11e9_b96b_78843cebb762row0_col1\" class=\"data row0 col1\" >-0.00181939</td> \n",
       "        <td id=\"T_1ab8e4f4_2928_11e9_b96b_78843cebb762row0_col2\" class=\"data row0 col2\" >-0.00137905</td> \n",
       "        <td id=\"T_1ab8e4f4_2928_11e9_b96b_78843cebb762row0_col3\" class=\"data row0 col3\" >0.0103489</td> \n",
       "        <td id=\"T_1ab8e4f4_2928_11e9_b96b_78843cebb762row0_col4\" class=\"data row0 col4\" >0.00528537</td> \n",
       "        <td id=\"T_1ab8e4f4_2928_11e9_b96b_78843cebb762row0_col5\" class=\"data row0 col5\" >-0.00751498</td> \n",
       "        <td id=\"T_1ab8e4f4_2928_11e9_b96b_78843cebb762row0_col6\" class=\"data row0 col6\" >-0.00888274</td> \n",
       "        <td id=\"T_1ab8e4f4_2928_11e9_b96b_78843cebb762row0_col7\" class=\"data row0 col7\" >-0.00223586</td> \n",
       "        <td id=\"T_1ab8e4f4_2928_11e9_b96b_78843cebb762row0_col8\" class=\"data row0 col8\" >-0.0163278</td> \n",
       "        <td id=\"T_1ab8e4f4_2928_11e9_b96b_78843cebb762row0_col9\" class=\"data row0 col9\" >-0.0130928</td> \n",
       "        <td id=\"T_1ab8e4f4_2928_11e9_b96b_78843cebb762row0_col10\" class=\"data row0 col10\" >-0.000806746</td> \n",
       "        <td id=\"T_1ab8e4f4_2928_11e9_b96b_78843cebb762row0_col11\" class=\"data row0 col11\" >-0.00850716</td> \n",
       "        <td id=\"T_1ab8e4f4_2928_11e9_b96b_78843cebb762row0_col12\" class=\"data row0 col12\" >-0.0071244</td> \n",
       "        <td id=\"T_1ab8e4f4_2928_11e9_b96b_78843cebb762row0_col13\" class=\"data row0 col13\" >-0.0101054</td> \n",
       "        <td id=\"T_1ab8e4f4_2928_11e9_b96b_78843cebb762row0_col14\" class=\"data row0 col14\" >9.46992e-05</td> \n",
       "        <td id=\"T_1ab8e4f4_2928_11e9_b96b_78843cebb762row0_col15\" class=\"data row0 col15\" >-0.0119019</td> \n",
       "        <td id=\"T_1ab8e4f4_2928_11e9_b96b_78843cebb762row0_col16\" class=\"data row0 col16\" >0.0169424</td> \n",
       "        <td id=\"T_1ab8e4f4_2928_11e9_b96b_78843cebb762row0_col17\" class=\"data row0 col17\" >-0.0137793</td> \n",
       "        <td id=\"T_1ab8e4f4_2928_11e9_b96b_78843cebb762row0_col18\" class=\"data row0 col18\" >4.78395e-05</td> \n",
       "    </tr>    <tr> \n",
       "        <th id=\"T_1ab8e4f4_2928_11e9_b96b_78843cebb762\" class=\"row_heading level0 row1\" >SeniorCitizen</th> \n",
       "        <td id=\"T_1ab8e4f4_2928_11e9_b96b_78843cebb762row1_col0\" class=\"data row1 col0\" >-0.00181939</td> \n",
       "        <td id=\"T_1ab8e4f4_2928_11e9_b96b_78843cebb762row1_col1\" class=\"data row1 col1\" >1</td> \n",
       "        <td id=\"T_1ab8e4f4_2928_11e9_b96b_78843cebb762row1_col2\" class=\"data row1 col2\" >0.0169566</td> \n",
       "        <td id=\"T_1ab8e4f4_2928_11e9_b96b_78843cebb762row1_col3\" class=\"data row1 col3\" >-0.21055</td> \n",
       "        <td id=\"T_1ab8e4f4_2928_11e9_b96b_78843cebb762row1_col4\" class=\"data row1 col4\" >0.0156835</td> \n",
       "        <td id=\"T_1ab8e4f4_2928_11e9_b96b_78843cebb762row1_col5\" class=\"data row1 col5\" >0.00839161</td> \n",
       "        <td id=\"T_1ab8e4f4_2928_11e9_b96b_78843cebb762row1_col6\" class=\"data row1 col6\" >0.142996</td> \n",
       "        <td id=\"T_1ab8e4f4_2928_11e9_b96b_78843cebb762row1_col7\" class=\"data row1 col7\" >-0.0321597</td> \n",
       "        <td id=\"T_1ab8e4f4_2928_11e9_b96b_78843cebb762row1_col8\" class=\"data row1 col8\" >-0.0385764</td> \n",
       "        <td id=\"T_1ab8e4f4_2928_11e9_b96b_78843cebb762row1_col9\" class=\"data row1 col9\" >0.0666628</td> \n",
       "        <td id=\"T_1ab8e4f4_2928_11e9_b96b_78843cebb762row1_col10\" class=\"data row1 col10\" >0.0595139</td> \n",
       "        <td id=\"T_1ab8e4f4_2928_11e9_b96b_78843cebb762row1_col11\" class=\"data row1 col11\" >-0.0605768</td> \n",
       "        <td id=\"T_1ab8e4f4_2928_11e9_b96b_78843cebb762row1_col12\" class=\"data row1 col12\" >0.105445</td> \n",
       "        <td id=\"T_1ab8e4f4_2928_11e9_b96b_78843cebb762row1_col13\" class=\"data row1 col13\" >0.119842</td> \n",
       "        <td id=\"T_1ab8e4f4_2928_11e9_b96b_78843cebb762row1_col14\" class=\"data row1 col14\" >-0.14182</td> \n",
       "        <td id=\"T_1ab8e4f4_2928_11e9_b96b_78843cebb762row1_col15\" class=\"data row1 col15\" >0.156258</td> \n",
       "        <td id=\"T_1ab8e4f4_2928_11e9_b96b_78843cebb762row1_col16\" class=\"data row1 col16\" >-0.0381578</td> \n",
       "        <td id=\"T_1ab8e4f4_2928_11e9_b96b_78843cebb762row1_col17\" class=\"data row1 col17\" >0.219874</td> \n",
       "        <td id=\"T_1ab8e4f4_2928_11e9_b96b_78843cebb762row1_col18\" class=\"data row1 col18\" >0.102411</td> \n",
       "    </tr>    <tr> \n",
       "        <th id=\"T_1ab8e4f4_2928_11e9_b96b_78843cebb762\" class=\"row_heading level0 row2\" >Partner</th> \n",
       "        <td id=\"T_1ab8e4f4_2928_11e9_b96b_78843cebb762row2_col0\" class=\"data row2 col0\" >-0.00137905</td> \n",
       "        <td id=\"T_1ab8e4f4_2928_11e9_b96b_78843cebb762row2_col1\" class=\"data row2 col1\" >0.0169566</td> \n",
       "        <td id=\"T_1ab8e4f4_2928_11e9_b96b_78843cebb762row2_col2\" class=\"data row2 col2\" >1</td> \n",
       "        <td id=\"T_1ab8e4f4_2928_11e9_b96b_78843cebb762row2_col3\" class=\"data row2 col3\" >0.452269</td> \n",
       "        <td id=\"T_1ab8e4f4_2928_11e9_b96b_78843cebb762row2_col4\" class=\"data row2 col4\" >0.381912</td> \n",
       "        <td id=\"T_1ab8e4f4_2928_11e9_b96b_78843cebb762row2_col5\" class=\"data row2 col5\" >0.0183972</td> \n",
       "        <td id=\"T_1ab8e4f4_2928_11e9_b96b_78843cebb762row2_col6\" class=\"data row2 col6\" >0.142561</td> \n",
       "        <td id=\"T_1ab8e4f4_2928_11e9_b96b_78843cebb762row2_col7\" class=\"data row2 col7\" >0.00051251</td> \n",
       "        <td id=\"T_1ab8e4f4_2928_11e9_b96b_78843cebb762row2_col8\" class=\"data row2 col8\" >0.143346</td> \n",
       "        <td id=\"T_1ab8e4f4_2928_11e9_b96b_78843cebb762row2_col9\" class=\"data row2 col9\" >0.141849</td> \n",
       "        <td id=\"T_1ab8e4f4_2928_11e9_b96b_78843cebb762row2_col10\" class=\"data row2 col10\" >0.153556</td> \n",
       "        <td id=\"T_1ab8e4f4_2928_11e9_b96b_78843cebb762row2_col11\" class=\"data row2 col11\" >0.120206</td> \n",
       "        <td id=\"T_1ab8e4f4_2928_11e9_b96b_78843cebb762row2_col12\" class=\"data row2 col12\" >0.124483</td> \n",
       "        <td id=\"T_1ab8e4f4_2928_11e9_b96b_78843cebb762row2_col13\" class=\"data row2 col13\" >0.118108</td> \n",
       "        <td id=\"T_1ab8e4f4_2928_11e9_b96b_78843cebb762row2_col14\" class=\"data row2 col14\" >0.294094</td> \n",
       "        <td id=\"T_1ab8e4f4_2928_11e9_b96b_78843cebb762row2_col15\" class=\"data row2 col15\" >-0.0139567</td> \n",
       "        <td id=\"T_1ab8e4f4_2928_11e9_b96b_78843cebb762row2_col16\" class=\"data row2 col16\" >-0.156232</td> \n",
       "        <td id=\"T_1ab8e4f4_2928_11e9_b96b_78843cebb762row2_col17\" class=\"data row2 col17\" >0.097825</td> \n",
       "        <td id=\"T_1ab8e4f4_2928_11e9_b96b_78843cebb762row2_col18\" class=\"data row2 col18\" >0.319072</td> \n",
       "    </tr>    <tr> \n",
       "        <th id=\"T_1ab8e4f4_2928_11e9_b96b_78843cebb762\" class=\"row_heading level0 row3\" >Dependents</th> \n",
       "        <td id=\"T_1ab8e4f4_2928_11e9_b96b_78843cebb762row3_col0\" class=\"data row3 col0\" >0.0103489</td> \n",
       "        <td id=\"T_1ab8e4f4_2928_11e9_b96b_78843cebb762row3_col1\" class=\"data row3 col1\" >-0.21055</td> \n",
       "        <td id=\"T_1ab8e4f4_2928_11e9_b96b_78843cebb762row3_col2\" class=\"data row3 col2\" >0.452269</td> \n",
       "        <td id=\"T_1ab8e4f4_2928_11e9_b96b_78843cebb762row3_col3\" class=\"data row3 col3\" >1</td> \n",
       "        <td id=\"T_1ab8e4f4_2928_11e9_b96b_78843cebb762row3_col4\" class=\"data row3 col4\" >0.163386</td> \n",
       "        <td id=\"T_1ab8e4f4_2928_11e9_b96b_78843cebb762row3_col5\" class=\"data row3 col5\" >-0.00107781</td> \n",
       "        <td id=\"T_1ab8e4f4_2928_11e9_b96b_78843cebb762row3_col6\" class=\"data row3 col6\" >-0.0243067</td> \n",
       "        <td id=\"T_1ab8e4f4_2928_11e9_b96b_78843cebb762row3_col7\" class=\"data row3 col7\" >0.0440299</td> \n",
       "        <td id=\"T_1ab8e4f4_2928_11e9_b96b_78843cebb762row3_col8\" class=\"data row3 col8\" >0.0807855</td> \n",
       "        <td id=\"T_1ab8e4f4_2928_11e9_b96b_78843cebb762row3_col9\" class=\"data row3 col9\" >0.0236388</td> \n",
       "        <td id=\"T_1ab8e4f4_2928_11e9_b96b_78843cebb762row3_col10\" class=\"data row3 col10\" >0.0138997</td> \n",
       "        <td id=\"T_1ab8e4f4_2928_11e9_b96b_78843cebb762row3_col11\" class=\"data row3 col11\" >0.0630532</td> \n",
       "        <td id=\"T_1ab8e4f4_2928_11e9_b96b_78843cebb762row3_col12\" class=\"data row3 col12\" >-0.0164987</td> \n",
       "        <td id=\"T_1ab8e4f4_2928_11e9_b96b_78843cebb762row3_col13\" class=\"data row3 col13\" >-0.0383749</td> \n",
       "        <td id=\"T_1ab8e4f4_2928_11e9_b96b_78843cebb762row3_col14\" class=\"data row3 col14\" >0.240556</td> \n",
       "        <td id=\"T_1ab8e4f4_2928_11e9_b96b_78843cebb762row3_col15\" class=\"data row3 col15\" >-0.110131</td> \n",
       "        <td id=\"T_1ab8e4f4_2928_11e9_b96b_78843cebb762row3_col16\" class=\"data row3 col16\" >-0.0419891</td> \n",
       "        <td id=\"T_1ab8e4f4_2928_11e9_b96b_78843cebb762row3_col17\" class=\"data row3 col17\" >-0.112343</td> \n",
       "        <td id=\"T_1ab8e4f4_2928_11e9_b96b_78843cebb762row3_col18\" class=\"data row3 col18\" >0.0646532</td> \n",
       "    </tr>    <tr> \n",
       "        <th id=\"T_1ab8e4f4_2928_11e9_b96b_78843cebb762\" class=\"row_heading level0 row4\" >tenure</th> \n",
       "        <td id=\"T_1ab8e4f4_2928_11e9_b96b_78843cebb762row4_col0\" class=\"data row4 col0\" >0.00528537</td> \n",
       "        <td id=\"T_1ab8e4f4_2928_11e9_b96b_78843cebb762row4_col1\" class=\"data row4 col1\" >0.0156835</td> \n",
       "        <td id=\"T_1ab8e4f4_2928_11e9_b96b_78843cebb762row4_col2\" class=\"data row4 col2\" >0.381912</td> \n",
       "        <td id=\"T_1ab8e4f4_2928_11e9_b96b_78843cebb762row4_col3\" class=\"data row4 col3\" >0.163386</td> \n",
       "        <td id=\"T_1ab8e4f4_2928_11e9_b96b_78843cebb762row4_col4\" class=\"data row4 col4\" >1</td> \n",
       "        <td id=\"T_1ab8e4f4_2928_11e9_b96b_78843cebb762row4_col5\" class=\"data row4 col5\" >0.00787733</td> \n",
       "        <td id=\"T_1ab8e4f4_2928_11e9_b96b_78843cebb762row4_col6\" class=\"data row4 col6\" >0.332399</td> \n",
       "        <td id=\"T_1ab8e4f4_2928_11e9_b96b_78843cebb762row4_col7\" class=\"data row4 col7\" >-0.0298348</td> \n",
       "        <td id=\"T_1ab8e4f4_2928_11e9_b96b_78843cebb762row4_col8\" class=\"data row4 col8\" >0.328297</td> \n",
       "        <td id=\"T_1ab8e4f4_2928_11e9_b96b_78843cebb762row4_col9\" class=\"data row4 col9\" >0.361138</td> \n",
       "        <td id=\"T_1ab8e4f4_2928_11e9_b96b_78843cebb762row4_col10\" class=\"data row4 col10\" >0.36152</td> \n",
       "        <td id=\"T_1ab8e4f4_2928_11e9_b96b_78843cebb762row4_col11\" class=\"data row4 col11\" >0.325288</td> \n",
       "        <td id=\"T_1ab8e4f4_2928_11e9_b96b_78843cebb762row4_col12\" class=\"data row4 col12\" >0.280264</td> \n",
       "        <td id=\"T_1ab8e4f4_2928_11e9_b96b_78843cebb762row4_col13\" class=\"data row4 col13\" >0.285402</td> \n",
       "        <td id=\"T_1ab8e4f4_2928_11e9_b96b_78843cebb762row4_col14\" class=\"data row4 col14\" >0.676734</td> \n",
       "        <td id=\"T_1ab8e4f4_2928_11e9_b96b_78843cebb762row4_col15\" class=\"data row4 col15\" >0.00482316</td> \n",
       "        <td id=\"T_1ab8e4f4_2928_11e9_b96b_78843cebb762row4_col16\" class=\"data row4 col16\" >-0.370087</td> \n",
       "        <td id=\"T_1ab8e4f4_2928_11e9_b96b_78843cebb762row4_col17\" class=\"data row4 col17\" >0.246862</td> \n",
       "        <td id=\"T_1ab8e4f4_2928_11e9_b96b_78843cebb762row4_col18\" class=\"data row4 col18\" >0.82588</td> \n",
       "    </tr>    <tr> \n",
       "        <th id=\"T_1ab8e4f4_2928_11e9_b96b_78843cebb762\" class=\"row_heading level0 row5\" >PhoneService</th> \n",
       "        <td id=\"T_1ab8e4f4_2928_11e9_b96b_78843cebb762row5_col0\" class=\"data row5 col0\" >-0.00751498</td> \n",
       "        <td id=\"T_1ab8e4f4_2928_11e9_b96b_78843cebb762row5_col1\" class=\"data row5 col1\" >0.00839161</td> \n",
       "        <td id=\"T_1ab8e4f4_2928_11e9_b96b_78843cebb762row5_col2\" class=\"data row5 col2\" >0.0183972</td> \n",
       "        <td id=\"T_1ab8e4f4_2928_11e9_b96b_78843cebb762row5_col3\" class=\"data row5 col3\" >-0.00107781</td> \n",
       "        <td id=\"T_1ab8e4f4_2928_11e9_b96b_78843cebb762row5_col4\" class=\"data row5 col4\" >0.00787733</td> \n",
       "        <td id=\"T_1ab8e4f4_2928_11e9_b96b_78843cebb762row5_col5\" class=\"data row5 col5\" >1</td> \n",
       "        <td id=\"T_1ab8e4f4_2928_11e9_b96b_78843cebb762row5_col6\" class=\"data row5 col6\" >0.27953</td> \n",
       "        <td id=\"T_1ab8e4f4_2928_11e9_b96b_78843cebb762row5_col7\" class=\"data row5 col7\" >0.387266</td> \n",
       "        <td id=\"T_1ab8e4f4_2928_11e9_b96b_78843cebb762row5_col8\" class=\"data row5 col8\" >-0.0916757</td> \n",
       "        <td id=\"T_1ab8e4f4_2928_11e9_b96b_78843cebb762row5_col9\" class=\"data row5 col9\" >-0.0521334</td> \n",
       "        <td id=\"T_1ab8e4f4_2928_11e9_b96b_78843cebb762row5_col10\" class=\"data row5 col10\" >-0.0700756</td> \n",
       "        <td id=\"T_1ab8e4f4_2928_11e9_b96b_78843cebb762row5_col11\" class=\"data row5 col11\" >-0.0951385</td> \n",
       "        <td id=\"T_1ab8e4f4_2928_11e9_b96b_78843cebb762row5_col12\" class=\"data row5 col12\" >-0.0213827</td> \n",
       "        <td id=\"T_1ab8e4f4_2928_11e9_b96b_78843cebb762row5_col13\" class=\"data row5 col13\" >-0.0334775</td> \n",
       "        <td id=\"T_1ab8e4f4_2928_11e9_b96b_78843cebb762row5_col14\" class=\"data row5 col14\" >0.00301869</td> \n",
       "        <td id=\"T_1ab8e4f4_2928_11e9_b96b_78843cebb762row5_col15\" class=\"data row5 col15\" >0.0166961</td> \n",
       "        <td id=\"T_1ab8e4f4_2928_11e9_b96b_78843cebb762row5_col16\" class=\"data row5 col16\" >-0.00549894</td> \n",
       "        <td id=\"T_1ab8e4f4_2928_11e9_b96b_78843cebb762row5_col17\" class=\"data row5 col17\" >0.248033</td> \n",
       "        <td id=\"T_1ab8e4f4_2928_11e9_b96b_78843cebb762row5_col18\" class=\"data row5 col18\" >0.113008</td> \n",
       "    </tr>    <tr> \n",
       "        <th id=\"T_1ab8e4f4_2928_11e9_b96b_78843cebb762\" class=\"row_heading level0 row6\" >MultipleLines</th> \n",
       "        <td id=\"T_1ab8e4f4_2928_11e9_b96b_78843cebb762row6_col0\" class=\"data row6 col0\" >-0.00888274</td> \n",
       "        <td id=\"T_1ab8e4f4_2928_11e9_b96b_78843cebb762row6_col1\" class=\"data row6 col1\" >0.142996</td> \n",
       "        <td id=\"T_1ab8e4f4_2928_11e9_b96b_78843cebb762row6_col2\" class=\"data row6 col2\" >0.142561</td> \n",
       "        <td id=\"T_1ab8e4f4_2928_11e9_b96b_78843cebb762row6_col3\" class=\"data row6 col3\" >-0.0243067</td> \n",
       "        <td id=\"T_1ab8e4f4_2928_11e9_b96b_78843cebb762row6_col4\" class=\"data row6 col4\" >0.332399</td> \n",
       "        <td id=\"T_1ab8e4f4_2928_11e9_b96b_78843cebb762row6_col5\" class=\"data row6 col5\" >0.27953</td> \n",
       "        <td id=\"T_1ab8e4f4_2928_11e9_b96b_78843cebb762row6_col6\" class=\"data row6 col6\" >1</td> \n",
       "        <td id=\"T_1ab8e4f4_2928_11e9_b96b_78843cebb762row6_col7\" class=\"data row6 col7\" >0.0113456</td> \n",
       "        <td id=\"T_1ab8e4f4_2928_11e9_b96b_78843cebb762row6_col8\" class=\"data row6 col8\" >0.098592</td> \n",
       "        <td id=\"T_1ab8e4f4_2928_11e9_b96b_78843cebb762row6_col9\" class=\"data row6 col9\" >0.202228</td> \n",
       "        <td id=\"T_1ab8e4f4_2928_11e9_b96b_78843cebb762row6_col10\" class=\"data row6 col10\" >0.201733</td> \n",
       "        <td id=\"T_1ab8e4f4_2928_11e9_b96b_78843cebb762row6_col11\" class=\"data row6 col11\" >0.100421</td> \n",
       "        <td id=\"T_1ab8e4f4_2928_11e9_b96b_78843cebb762row6_col12\" class=\"data row6 col12\" >0.257804</td> \n",
       "        <td id=\"T_1ab8e4f4_2928_11e9_b96b_78843cebb762row6_col13\" class=\"data row6 col13\" >0.259194</td> \n",
       "        <td id=\"T_1ab8e4f4_2928_11e9_b96b_78843cebb762row6_col14\" class=\"data row6 col14\" >0.107529</td> \n",
       "        <td id=\"T_1ab8e4f4_2928_11e9_b96b_78843cebb762row6_col15\" class=\"data row6 col15\" >0.163746</td> \n",
       "        <td id=\"T_1ab8e4f4_2928_11e9_b96b_78843cebb762row6_col16\" class=\"data row6 col16\" >-0.17124</td> \n",
       "        <td id=\"T_1ab8e4f4_2928_11e9_b96b_78843cebb762row6_col17\" class=\"data row6 col17\" >0.490912</td> \n",
       "        <td id=\"T_1ab8e4f4_2928_11e9_b96b_78843cebb762row6_col18\" class=\"data row6 col18\" >0.469042</td> \n",
       "    </tr>    <tr> \n",
       "        <th id=\"T_1ab8e4f4_2928_11e9_b96b_78843cebb762\" class=\"row_heading level0 row7\" >InternetService</th> \n",
       "        <td id=\"T_1ab8e4f4_2928_11e9_b96b_78843cebb762row7_col0\" class=\"data row7 col0\" >-0.00223586</td> \n",
       "        <td id=\"T_1ab8e4f4_2928_11e9_b96b_78843cebb762row7_col1\" class=\"data row7 col1\" >-0.0321597</td> \n",
       "        <td id=\"T_1ab8e4f4_2928_11e9_b96b_78843cebb762row7_col2\" class=\"data row7 col2\" >0.00051251</td> \n",
       "        <td id=\"T_1ab8e4f4_2928_11e9_b96b_78843cebb762row7_col3\" class=\"data row7 col3\" >0.0440299</td> \n",
       "        <td id=\"T_1ab8e4f4_2928_11e9_b96b_78843cebb762row7_col4\" class=\"data row7 col4\" >-0.0298348</td> \n",
       "        <td id=\"T_1ab8e4f4_2928_11e9_b96b_78843cebb762row7_col5\" class=\"data row7 col5\" >0.387266</td> \n",
       "        <td id=\"T_1ab8e4f4_2928_11e9_b96b_78843cebb762row7_col6\" class=\"data row7 col6\" >0.0113456</td> \n",
       "        <td id=\"T_1ab8e4f4_2928_11e9_b96b_78843cebb762row7_col7\" class=\"data row7 col7\" >1</td> \n",
       "        <td id=\"T_1ab8e4f4_2928_11e9_b96b_78843cebb762row7_col8\" class=\"data row7 col8\" >-0.392174</td> \n",
       "        <td id=\"T_1ab8e4f4_2928_11e9_b96b_78843cebb762row7_col9\" class=\"data row7 col9\" >-0.313708</td> \n",
       "        <td id=\"T_1ab8e4f4_2928_11e9_b96b_78843cebb762row7_col10\" class=\"data row7 col10\" >-0.305757</td> \n",
       "        <td id=\"T_1ab8e4f4_2928_11e9_b96b_78843cebb762row7_col11\" class=\"data row7 col11\" >-0.388535</td> \n",
       "        <td id=\"T_1ab8e4f4_2928_11e9_b96b_78843cebb762row7_col12\" class=\"data row7 col12\" >-0.24133</td> \n",
       "        <td id=\"T_1ab8e4f4_2928_11e9_b96b_78843cebb762row7_col13\" class=\"data row7 col13\" >-0.250144</td> \n",
       "        <td id=\"T_1ab8e4f4_2928_11e9_b96b_78843cebb762row7_col14\" class=\"data row7 col14\" >0.0995792</td> \n",
       "        <td id=\"T_1ab8e4f4_2928_11e9_b96b_78843cebb762row7_col15\" class=\"data row7 col15\" >-0.138166</td> \n",
       "        <td id=\"T_1ab8e4f4_2928_11e9_b96b_78843cebb762row7_col16\" class=\"data row7 col16\" >0.0845043</td> \n",
       "        <td id=\"T_1ab8e4f4_2928_11e9_b96b_78843cebb762row7_col17\" class=\"data row7 col17\" >-0.322173</td> \n",
       "        <td id=\"T_1ab8e4f4_2928_11e9_b96b_78843cebb762row7_col18\" class=\"data row7 col18\" >-0.175691</td> \n",
       "    </tr>    <tr> \n",
       "        <th id=\"T_1ab8e4f4_2928_11e9_b96b_78843cebb762\" class=\"row_heading level0 row8\" >OnlineSecurity</th> \n",
       "        <td id=\"T_1ab8e4f4_2928_11e9_b96b_78843cebb762row8_col0\" class=\"data row8 col0\" >-0.0163278</td> \n",
       "        <td id=\"T_1ab8e4f4_2928_11e9_b96b_78843cebb762row8_col1\" class=\"data row8 col1\" >-0.0385764</td> \n",
       "        <td id=\"T_1ab8e4f4_2928_11e9_b96b_78843cebb762row8_col2\" class=\"data row8 col2\" >0.143346</td> \n",
       "        <td id=\"T_1ab8e4f4_2928_11e9_b96b_78843cebb762row8_col3\" class=\"data row8 col3\" >0.0807855</td> \n",
       "        <td id=\"T_1ab8e4f4_2928_11e9_b96b_78843cebb762row8_col4\" class=\"data row8 col4\" >0.328297</td> \n",
       "        <td id=\"T_1ab8e4f4_2928_11e9_b96b_78843cebb762row8_col5\" class=\"data row8 col5\" >-0.0916757</td> \n",
       "        <td id=\"T_1ab8e4f4_2928_11e9_b96b_78843cebb762row8_col6\" class=\"data row8 col6\" >0.098592</td> \n",
       "        <td id=\"T_1ab8e4f4_2928_11e9_b96b_78843cebb762row8_col7\" class=\"data row8 col7\" >-0.392174</td> \n",
       "        <td id=\"T_1ab8e4f4_2928_11e9_b96b_78843cebb762row8_col8\" class=\"data row8 col8\" >1</td> \n",
       "        <td id=\"T_1ab8e4f4_2928_11e9_b96b_78843cebb762row8_col9\" class=\"data row8 col9\" >0.283285</td> \n",
       "        <td id=\"T_1ab8e4f4_2928_11e9_b96b_78843cebb762row8_col10\" class=\"data row8 col10\" >0.274875</td> \n",
       "        <td id=\"T_1ab8e4f4_2928_11e9_b96b_78843cebb762row8_col11\" class=\"data row8 col11\" >0.354458</td> \n",
       "        <td id=\"T_1ab8e4f4_2928_11e9_b96b_78843cebb762row8_col12\" class=\"data row8 col12\" >0.175514</td> \n",
       "        <td id=\"T_1ab8e4f4_2928_11e9_b96b_78843cebb762row8_col13\" class=\"data row8 col13\" >0.187426</td> \n",
       "        <td id=\"T_1ab8e4f4_2928_11e9_b96b_78843cebb762row8_col14\" class=\"data row8 col14\" >0.24566</td> \n",
       "        <td id=\"T_1ab8e4f4_2928_11e9_b96b_78843cebb762row8_col15\" class=\"data row8 col15\" >-0.00405125</td> \n",
       "        <td id=\"T_1ab8e4f4_2928_11e9_b96b_78843cebb762row8_col16\" class=\"data row8 col16\" >-0.149112</td> \n",
       "        <td id=\"T_1ab8e4f4_2928_11e9_b96b_78843cebb762row8_col17\" class=\"data row8 col17\" >0.296447</td> \n",
       "        <td id=\"T_1ab8e4f4_2928_11e9_b96b_78843cebb762row8_col18\" class=\"data row8 col18\" >0.412619</td> \n",
       "    </tr>    <tr> \n",
       "        <th id=\"T_1ab8e4f4_2928_11e9_b96b_78843cebb762\" class=\"row_heading level0 row9\" >OnlineBackup</th> \n",
       "        <td id=\"T_1ab8e4f4_2928_11e9_b96b_78843cebb762row9_col0\" class=\"data row9 col0\" >-0.0130928</td> \n",
       "        <td id=\"T_1ab8e4f4_2928_11e9_b96b_78843cebb762row9_col1\" class=\"data row9 col1\" >0.0666628</td> \n",
       "        <td id=\"T_1ab8e4f4_2928_11e9_b96b_78843cebb762row9_col2\" class=\"data row9 col2\" >0.141849</td> \n",
       "        <td id=\"T_1ab8e4f4_2928_11e9_b96b_78843cebb762row9_col3\" class=\"data row9 col3\" >0.0236388</td> \n",
       "        <td id=\"T_1ab8e4f4_2928_11e9_b96b_78843cebb762row9_col4\" class=\"data row9 col4\" >0.361138</td> \n",
       "        <td id=\"T_1ab8e4f4_2928_11e9_b96b_78843cebb762row9_col5\" class=\"data row9 col5\" >-0.0521334</td> \n",
       "        <td id=\"T_1ab8e4f4_2928_11e9_b96b_78843cebb762row9_col6\" class=\"data row9 col6\" >0.202228</td> \n",
       "        <td id=\"T_1ab8e4f4_2928_11e9_b96b_78843cebb762row9_col7\" class=\"data row9 col7\" >-0.313708</td> \n",
       "        <td id=\"T_1ab8e4f4_2928_11e9_b96b_78843cebb762row9_col8\" class=\"data row9 col8\" >0.283285</td> \n",
       "        <td id=\"T_1ab8e4f4_2928_11e9_b96b_78843cebb762row9_col9\" class=\"data row9 col9\" >1</td> \n",
       "        <td id=\"T_1ab8e4f4_2928_11e9_b96b_78843cebb762row9_col10\" class=\"data row9 col10\" >0.303058</td> \n",
       "        <td id=\"T_1ab8e4f4_2928_11e9_b96b_78843cebb762row9_col11\" class=\"data row9 col11\" >0.293705</td> \n",
       "        <td id=\"T_1ab8e4f4_2928_11e9_b96b_78843cebb762row9_col12\" class=\"data row9 col12\" >0.281601</td> \n",
       "        <td id=\"T_1ab8e4f4_2928_11e9_b96b_78843cebb762row9_col13\" class=\"data row9 col13\" >0.274523</td> \n",
       "        <td id=\"T_1ab8e4f4_2928_11e9_b96b_78843cebb762row9_col14\" class=\"data row9 col14\" >0.155262</td> \n",
       "        <td id=\"T_1ab8e4f4_2928_11e9_b96b_78843cebb762row9_col15\" class=\"data row9 col15\" >0.127056</td> \n",
       "        <td id=\"T_1ab8e4f4_2928_11e9_b96b_78843cebb762row9_col16\" class=\"data row9 col16\" >-0.17072</td> \n",
       "        <td id=\"T_1ab8e4f4_2928_11e9_b96b_78843cebb762row9_col17\" class=\"data row9 col17\" >0.441529</td> \n",
       "        <td id=\"T_1ab8e4f4_2928_11e9_b96b_78843cebb762row9_col18\" class=\"data row9 col18\" >0.5101</td> \n",
       "    </tr>    <tr> \n",
       "        <th id=\"T_1ab8e4f4_2928_11e9_b96b_78843cebb762\" class=\"row_heading level0 row10\" >DeviceProtection</th> \n",
       "        <td id=\"T_1ab8e4f4_2928_11e9_b96b_78843cebb762row10_col0\" class=\"data row10 col0\" >-0.000806746</td> \n",
       "        <td id=\"T_1ab8e4f4_2928_11e9_b96b_78843cebb762row10_col1\" class=\"data row10 col1\" >0.0595139</td> \n",
       "        <td id=\"T_1ab8e4f4_2928_11e9_b96b_78843cebb762row10_col2\" class=\"data row10 col2\" >0.153556</td> \n",
       "        <td id=\"T_1ab8e4f4_2928_11e9_b96b_78843cebb762row10_col3\" class=\"data row10 col3\" >0.0138997</td> \n",
       "        <td id=\"T_1ab8e4f4_2928_11e9_b96b_78843cebb762row10_col4\" class=\"data row10 col4\" >0.36152</td> \n",
       "        <td id=\"T_1ab8e4f4_2928_11e9_b96b_78843cebb762row10_col5\" class=\"data row10 col5\" >-0.0700756</td> \n",
       "        <td id=\"T_1ab8e4f4_2928_11e9_b96b_78843cebb762row10_col6\" class=\"data row10 col6\" >0.201733</td> \n",
       "        <td id=\"T_1ab8e4f4_2928_11e9_b96b_78843cebb762row10_col7\" class=\"data row10 col7\" >-0.305757</td> \n",
       "        <td id=\"T_1ab8e4f4_2928_11e9_b96b_78843cebb762row10_col8\" class=\"data row10 col8\" >0.274875</td> \n",
       "        <td id=\"T_1ab8e4f4_2928_11e9_b96b_78843cebb762row10_col9\" class=\"data row10 col9\" >0.303058</td> \n",
       "        <td id=\"T_1ab8e4f4_2928_11e9_b96b_78843cebb762row10_col10\" class=\"data row10 col10\" >1</td> \n",
       "        <td id=\"T_1ab8e4f4_2928_11e9_b96b_78843cebb762row10_col11\" class=\"data row10 col11\" >0.33285</td> \n",
       "        <td id=\"T_1ab8e4f4_2928_11e9_b96b_78843cebb762row10_col12\" class=\"data row10 col12\" >0.389924</td> \n",
       "        <td id=\"T_1ab8e4f4_2928_11e9_b96b_78843cebb762row10_col13\" class=\"data row10 col13\" >0.402309</td> \n",
       "        <td id=\"T_1ab8e4f4_2928_11e9_b96b_78843cebb762row10_col14\" class=\"data row10 col14\" >0.219648</td> \n",
       "        <td id=\"T_1ab8e4f4_2928_11e9_b96b_78843cebb762row10_col15\" class=\"data row10 col15\" >0.104079</td> \n",
       "        <td id=\"T_1ab8e4f4_2928_11e9_b96b_78843cebb762row10_col16\" class=\"data row10 col16\" >-0.180931</td> \n",
       "        <td id=\"T_1ab8e4f4_2928_11e9_b96b_78843cebb762row10_col17\" class=\"data row10 col17\" >0.482607</td> \n",
       "        <td id=\"T_1ab8e4f4_2928_11e9_b96b_78843cebb762row10_col18\" class=\"data row10 col18\" >0.522881</td> \n",
       "    </tr>    <tr> \n",
       "        <th id=\"T_1ab8e4f4_2928_11e9_b96b_78843cebb762\" class=\"row_heading level0 row11\" >TechSupport</th> \n",
       "        <td id=\"T_1ab8e4f4_2928_11e9_b96b_78843cebb762row11_col0\" class=\"data row11 col0\" >-0.00850716</td> \n",
       "        <td id=\"T_1ab8e4f4_2928_11e9_b96b_78843cebb762row11_col1\" class=\"data row11 col1\" >-0.0605768</td> \n",
       "        <td id=\"T_1ab8e4f4_2928_11e9_b96b_78843cebb762row11_col2\" class=\"data row11 col2\" >0.120206</td> \n",
       "        <td id=\"T_1ab8e4f4_2928_11e9_b96b_78843cebb762row11_col3\" class=\"data row11 col3\" >0.0630532</td> \n",
       "        <td id=\"T_1ab8e4f4_2928_11e9_b96b_78843cebb762row11_col4\" class=\"data row11 col4\" >0.325288</td> \n",
       "        <td id=\"T_1ab8e4f4_2928_11e9_b96b_78843cebb762row11_col5\" class=\"data row11 col5\" >-0.0951385</td> \n",
       "        <td id=\"T_1ab8e4f4_2928_11e9_b96b_78843cebb762row11_col6\" class=\"data row11 col6\" >0.100421</td> \n",
       "        <td id=\"T_1ab8e4f4_2928_11e9_b96b_78843cebb762row11_col7\" class=\"data row11 col7\" >-0.388535</td> \n",
       "        <td id=\"T_1ab8e4f4_2928_11e9_b96b_78843cebb762row11_col8\" class=\"data row11 col8\" >0.354458</td> \n",
       "        <td id=\"T_1ab8e4f4_2928_11e9_b96b_78843cebb762row11_col9\" class=\"data row11 col9\" >0.293705</td> \n",
       "        <td id=\"T_1ab8e4f4_2928_11e9_b96b_78843cebb762row11_col10\" class=\"data row11 col10\" >0.33285</td> \n",
       "        <td id=\"T_1ab8e4f4_2928_11e9_b96b_78843cebb762row11_col11\" class=\"data row11 col11\" >1</td> \n",
       "        <td id=\"T_1ab8e4f4_2928_11e9_b96b_78843cebb762row11_col12\" class=\"data row11 col12\" >0.277549</td> \n",
       "        <td id=\"T_1ab8e4f4_2928_11e9_b96b_78843cebb762row11_col13\" class=\"data row11 col13\" >0.280155</td> \n",
       "        <td id=\"T_1ab8e4f4_2928_11e9_b96b_78843cebb762row11_col14\" class=\"data row11 col14\" >0.293967</td> \n",
       "        <td id=\"T_1ab8e4f4_2928_11e9_b96b_78843cebb762row11_col15\" class=\"data row11 col15\" >0.0375359</td> \n",
       "        <td id=\"T_1ab8e4f4_2928_11e9_b96b_78843cebb762row11_col16\" class=\"data row11 col16\" >-0.156296</td> \n",
       "        <td id=\"T_1ab8e4f4_2928_11e9_b96b_78843cebb762row11_col17\" class=\"data row11 col17\" >0.338301</td> \n",
       "        <td id=\"T_1ab8e4f4_2928_11e9_b96b_78843cebb762row11_col18\" class=\"data row11 col18\" >0.432868</td> \n",
       "    </tr>    <tr> \n",
       "        <th id=\"T_1ab8e4f4_2928_11e9_b96b_78843cebb762\" class=\"row_heading level0 row12\" >StreamingTV</th> \n",
       "        <td id=\"T_1ab8e4f4_2928_11e9_b96b_78843cebb762row12_col0\" class=\"data row12 col0\" >-0.0071244</td> \n",
       "        <td id=\"T_1ab8e4f4_2928_11e9_b96b_78843cebb762row12_col1\" class=\"data row12 col1\" >0.105445</td> \n",
       "        <td id=\"T_1ab8e4f4_2928_11e9_b96b_78843cebb762row12_col2\" class=\"data row12 col2\" >0.124483</td> \n",
       "        <td id=\"T_1ab8e4f4_2928_11e9_b96b_78843cebb762row12_col3\" class=\"data row12 col3\" >-0.0164987</td> \n",
       "        <td id=\"T_1ab8e4f4_2928_11e9_b96b_78843cebb762row12_col4\" class=\"data row12 col4\" >0.280264</td> \n",
       "        <td id=\"T_1ab8e4f4_2928_11e9_b96b_78843cebb762row12_col5\" class=\"data row12 col5\" >-0.0213827</td> \n",
       "        <td id=\"T_1ab8e4f4_2928_11e9_b96b_78843cebb762row12_col6\" class=\"data row12 col6\" >0.257804</td> \n",
       "        <td id=\"T_1ab8e4f4_2928_11e9_b96b_78843cebb762row12_col7\" class=\"data row12 col7\" >-0.24133</td> \n",
       "        <td id=\"T_1ab8e4f4_2928_11e9_b96b_78843cebb762row12_col8\" class=\"data row12 col8\" >0.175514</td> \n",
       "        <td id=\"T_1ab8e4f4_2928_11e9_b96b_78843cebb762row12_col9\" class=\"data row12 col9\" >0.281601</td> \n",
       "        <td id=\"T_1ab8e4f4_2928_11e9_b96b_78843cebb762row12_col10\" class=\"data row12 col10\" >0.389924</td> \n",
       "        <td id=\"T_1ab8e4f4_2928_11e9_b96b_78843cebb762row12_col11\" class=\"data row12 col11\" >0.277549</td> \n",
       "        <td id=\"T_1ab8e4f4_2928_11e9_b96b_78843cebb762row12_col12\" class=\"data row12 col12\" >1</td> \n",
       "        <td id=\"T_1ab8e4f4_2928_11e9_b96b_78843cebb762row12_col13\" class=\"data row12 col13\" >0.53338</td> \n",
       "        <td id=\"T_1ab8e4f4_2928_11e9_b96b_78843cebb762row12_col14\" class=\"data row12 col14\" >0.104178</td> \n",
       "        <td id=\"T_1ab8e4f4_2928_11e9_b96b_78843cebb762row12_col15\" class=\"data row12 col15\" >0.224241</td> \n",
       "        <td id=\"T_1ab8e4f4_2928_11e9_b96b_78843cebb762row12_col16\" class=\"data row12 col16\" >-0.148563</td> \n",
       "        <td id=\"T_1ab8e4f4_2928_11e9_b96b_78843cebb762row12_col17\" class=\"data row12 col17\" >0.629668</td> \n",
       "        <td id=\"T_1ab8e4f4_2928_11e9_b96b_78843cebb762row12_col18\" class=\"data row12 col18\" >0.515709</td> \n",
       "    </tr>    <tr> \n",
       "        <th id=\"T_1ab8e4f4_2928_11e9_b96b_78843cebb762\" class=\"row_heading level0 row13\" >StreamingMovies</th> \n",
       "        <td id=\"T_1ab8e4f4_2928_11e9_b96b_78843cebb762row13_col0\" class=\"data row13 col0\" >-0.0101054</td> \n",
       "        <td id=\"T_1ab8e4f4_2928_11e9_b96b_78843cebb762row13_col1\" class=\"data row13 col1\" >0.119842</td> \n",
       "        <td id=\"T_1ab8e4f4_2928_11e9_b96b_78843cebb762row13_col2\" class=\"data row13 col2\" >0.118108</td> \n",
       "        <td id=\"T_1ab8e4f4_2928_11e9_b96b_78843cebb762row13_col3\" class=\"data row13 col3\" >-0.0383749</td> \n",
       "        <td id=\"T_1ab8e4f4_2928_11e9_b96b_78843cebb762row13_col4\" class=\"data row13 col4\" >0.285402</td> \n",
       "        <td id=\"T_1ab8e4f4_2928_11e9_b96b_78843cebb762row13_col5\" class=\"data row13 col5\" >-0.0334775</td> \n",
       "        <td id=\"T_1ab8e4f4_2928_11e9_b96b_78843cebb762row13_col6\" class=\"data row13 col6\" >0.259194</td> \n",
       "        <td id=\"T_1ab8e4f4_2928_11e9_b96b_78843cebb762row13_col7\" class=\"data row13 col7\" >-0.250144</td> \n",
       "        <td id=\"T_1ab8e4f4_2928_11e9_b96b_78843cebb762row13_col8\" class=\"data row13 col8\" >0.187426</td> \n",
       "        <td id=\"T_1ab8e4f4_2928_11e9_b96b_78843cebb762row13_col9\" class=\"data row13 col9\" >0.274523</td> \n",
       "        <td id=\"T_1ab8e4f4_2928_11e9_b96b_78843cebb762row13_col10\" class=\"data row13 col10\" >0.402309</td> \n",
       "        <td id=\"T_1ab8e4f4_2928_11e9_b96b_78843cebb762row13_col11\" class=\"data row13 col11\" >0.280155</td> \n",
       "        <td id=\"T_1ab8e4f4_2928_11e9_b96b_78843cebb762row13_col12\" class=\"data row13 col12\" >0.53338</td> \n",
       "        <td id=\"T_1ab8e4f4_2928_11e9_b96b_78843cebb762row13_col13\" class=\"data row13 col13\" >1</td> \n",
       "        <td id=\"T_1ab8e4f4_2928_11e9_b96b_78843cebb762row13_col14\" class=\"data row13 col14\" >0.109136</td> \n",
       "        <td id=\"T_1ab8e4f4_2928_11e9_b96b_78843cebb762row13_col15\" class=\"data row13 col15\" >0.211583</td> \n",
       "        <td id=\"T_1ab8e4f4_2928_11e9_b96b_78843cebb762row13_col16\" class=\"data row13 col16\" >-0.154854</td> \n",
       "        <td id=\"T_1ab8e4f4_2928_11e9_b96b_78843cebb762row13_col17\" class=\"data row13 col17\" >0.627235</td> \n",
       "        <td id=\"T_1ab8e4f4_2928_11e9_b96b_78843cebb762row13_col18\" class=\"data row13 col18\" >0.519867</td> \n",
       "    </tr>    <tr> \n",
       "        <th id=\"T_1ab8e4f4_2928_11e9_b96b_78843cebb762\" class=\"row_heading level0 row14\" >Contract</th> \n",
       "        <td id=\"T_1ab8e4f4_2928_11e9_b96b_78843cebb762row14_col0\" class=\"data row14 col0\" >9.46992e-05</td> \n",
       "        <td id=\"T_1ab8e4f4_2928_11e9_b96b_78843cebb762row14_col1\" class=\"data row14 col1\" >-0.14182</td> \n",
       "        <td id=\"T_1ab8e4f4_2928_11e9_b96b_78843cebb762row14_col2\" class=\"data row14 col2\" >0.294094</td> \n",
       "        <td id=\"T_1ab8e4f4_2928_11e9_b96b_78843cebb762row14_col3\" class=\"data row14 col3\" >0.240556</td> \n",
       "        <td id=\"T_1ab8e4f4_2928_11e9_b96b_78843cebb762row14_col4\" class=\"data row14 col4\" >0.676734</td> \n",
       "        <td id=\"T_1ab8e4f4_2928_11e9_b96b_78843cebb762row14_col5\" class=\"data row14 col5\" >0.00301869</td> \n",
       "        <td id=\"T_1ab8e4f4_2928_11e9_b96b_78843cebb762row14_col6\" class=\"data row14 col6\" >0.107529</td> \n",
       "        <td id=\"T_1ab8e4f4_2928_11e9_b96b_78843cebb762row14_col7\" class=\"data row14 col7\" >0.0995792</td> \n",
       "        <td id=\"T_1ab8e4f4_2928_11e9_b96b_78843cebb762row14_col8\" class=\"data row14 col8\" >0.24566</td> \n",
       "        <td id=\"T_1ab8e4f4_2928_11e9_b96b_78843cebb762row14_col9\" class=\"data row14 col9\" >0.155262</td> \n",
       "        <td id=\"T_1ab8e4f4_2928_11e9_b96b_78843cebb762row14_col10\" class=\"data row14 col10\" >0.219648</td> \n",
       "        <td id=\"T_1ab8e4f4_2928_11e9_b96b_78843cebb762row14_col11\" class=\"data row14 col11\" >0.293967</td> \n",
       "        <td id=\"T_1ab8e4f4_2928_11e9_b96b_78843cebb762row14_col12\" class=\"data row14 col12\" >0.104178</td> \n",
       "        <td id=\"T_1ab8e4f4_2928_11e9_b96b_78843cebb762row14_col13\" class=\"data row14 col13\" >0.109136</td> \n",
       "        <td id=\"T_1ab8e4f4_2928_11e9_b96b_78843cebb762row14_col14\" class=\"data row14 col14\" >1</td> \n",
       "        <td id=\"T_1ab8e4f4_2928_11e9_b96b_78843cebb762row14_col15\" class=\"data row14 col15\" >-0.175475</td> \n",
       "        <td id=\"T_1ab8e4f4_2928_11e9_b96b_78843cebb762row14_col16\" class=\"data row14 col16\" >-0.229636</td> \n",
       "        <td id=\"T_1ab8e4f4_2928_11e9_b96b_78843cebb762row14_col17\" class=\"data row14 col17\" >-0.0727386</td> \n",
       "        <td id=\"T_1ab8e4f4_2928_11e9_b96b_78843cebb762row14_col18\" class=\"data row14 col18\" >0.450306</td> \n",
       "    </tr>    <tr> \n",
       "        <th id=\"T_1ab8e4f4_2928_11e9_b96b_78843cebb762\" class=\"row_heading level0 row15\" >PaperlessBilling</th> \n",
       "        <td id=\"T_1ab8e4f4_2928_11e9_b96b_78843cebb762row15_col0\" class=\"data row15 col0\" >-0.0119019</td> \n",
       "        <td id=\"T_1ab8e4f4_2928_11e9_b96b_78843cebb762row15_col1\" class=\"data row15 col1\" >0.156258</td> \n",
       "        <td id=\"T_1ab8e4f4_2928_11e9_b96b_78843cebb762row15_col2\" class=\"data row15 col2\" >-0.0139567</td> \n",
       "        <td id=\"T_1ab8e4f4_2928_11e9_b96b_78843cebb762row15_col3\" class=\"data row15 col3\" >-0.110131</td> \n",
       "        <td id=\"T_1ab8e4f4_2928_11e9_b96b_78843cebb762row15_col4\" class=\"data row15 col4\" >0.00482316</td> \n",
       "        <td id=\"T_1ab8e4f4_2928_11e9_b96b_78843cebb762row15_col5\" class=\"data row15 col5\" >0.0166961</td> \n",
       "        <td id=\"T_1ab8e4f4_2928_11e9_b96b_78843cebb762row15_col6\" class=\"data row15 col6\" >0.163746</td> \n",
       "        <td id=\"T_1ab8e4f4_2928_11e9_b96b_78843cebb762row15_col7\" class=\"data row15 col7\" >-0.138166</td> \n",
       "        <td id=\"T_1ab8e4f4_2928_11e9_b96b_78843cebb762row15_col8\" class=\"data row15 col8\" >-0.00405125</td> \n",
       "        <td id=\"T_1ab8e4f4_2928_11e9_b96b_78843cebb762row15_col9\" class=\"data row15 col9\" >0.127056</td> \n",
       "        <td id=\"T_1ab8e4f4_2928_11e9_b96b_78843cebb762row15_col10\" class=\"data row15 col10\" >0.104079</td> \n",
       "        <td id=\"T_1ab8e4f4_2928_11e9_b96b_78843cebb762row15_col11\" class=\"data row15 col11\" >0.0375359</td> \n",
       "        <td id=\"T_1ab8e4f4_2928_11e9_b96b_78843cebb762row15_col12\" class=\"data row15 col12\" >0.224241</td> \n",
       "        <td id=\"T_1ab8e4f4_2928_11e9_b96b_78843cebb762row15_col13\" class=\"data row15 col13\" >0.211583</td> \n",
       "        <td id=\"T_1ab8e4f4_2928_11e9_b96b_78843cebb762row15_col14\" class=\"data row15 col14\" >-0.175475</td> \n",
       "        <td id=\"T_1ab8e4f4_2928_11e9_b96b_78843cebb762row15_col15\" class=\"data row15 col15\" >1</td> \n",
       "        <td id=\"T_1ab8e4f4_2928_11e9_b96b_78843cebb762row15_col16\" class=\"data row15 col16\" >-0.061348</td> \n",
       "        <td id=\"T_1ab8e4f4_2928_11e9_b96b_78843cebb762row15_col17\" class=\"data row15 col17\" >0.35193</td> \n",
       "        <td id=\"T_1ab8e4f4_2928_11e9_b96b_78843cebb762row15_col18\" class=\"data row15 col18\" >0.15783</td> \n",
       "    </tr>    <tr> \n",
       "        <th id=\"T_1ab8e4f4_2928_11e9_b96b_78843cebb762\" class=\"row_heading level0 row16\" >PaymentMethod</th> \n",
       "        <td id=\"T_1ab8e4f4_2928_11e9_b96b_78843cebb762row16_col0\" class=\"data row16 col0\" >0.0169424</td> \n",
       "        <td id=\"T_1ab8e4f4_2928_11e9_b96b_78843cebb762row16_col1\" class=\"data row16 col1\" >-0.0381578</td> \n",
       "        <td id=\"T_1ab8e4f4_2928_11e9_b96b_78843cebb762row16_col2\" class=\"data row16 col2\" >-0.156232</td> \n",
       "        <td id=\"T_1ab8e4f4_2928_11e9_b96b_78843cebb762row16_col3\" class=\"data row16 col3\" >-0.0419891</td> \n",
       "        <td id=\"T_1ab8e4f4_2928_11e9_b96b_78843cebb762row16_col4\" class=\"data row16 col4\" >-0.370087</td> \n",
       "        <td id=\"T_1ab8e4f4_2928_11e9_b96b_78843cebb762row16_col5\" class=\"data row16 col5\" >-0.00549894</td> \n",
       "        <td id=\"T_1ab8e4f4_2928_11e9_b96b_78843cebb762row16_col6\" class=\"data row16 col6\" >-0.17124</td> \n",
       "        <td id=\"T_1ab8e4f4_2928_11e9_b96b_78843cebb762row16_col7\" class=\"data row16 col7\" >0.0845043</td> \n",
       "        <td id=\"T_1ab8e4f4_2928_11e9_b96b_78843cebb762row16_col8\" class=\"data row16 col8\" >-0.149112</td> \n",
       "        <td id=\"T_1ab8e4f4_2928_11e9_b96b_78843cebb762row16_col9\" class=\"data row16 col9\" >-0.17072</td> \n",
       "        <td id=\"T_1ab8e4f4_2928_11e9_b96b_78843cebb762row16_col10\" class=\"data row16 col10\" >-0.180931</td> \n",
       "        <td id=\"T_1ab8e4f4_2928_11e9_b96b_78843cebb762row16_col11\" class=\"data row16 col11\" >-0.156296</td> \n",
       "        <td id=\"T_1ab8e4f4_2928_11e9_b96b_78843cebb762row16_col12\" class=\"data row16 col12\" >-0.148563</td> \n",
       "        <td id=\"T_1ab8e4f4_2928_11e9_b96b_78843cebb762row16_col13\" class=\"data row16 col13\" >-0.154854</td> \n",
       "        <td id=\"T_1ab8e4f4_2928_11e9_b96b_78843cebb762row16_col14\" class=\"data row16 col14\" >-0.229636</td> \n",
       "        <td id=\"T_1ab8e4f4_2928_11e9_b96b_78843cebb762row16_col15\" class=\"data row16 col15\" >-0.061348</td> \n",
       "        <td id=\"T_1ab8e4f4_2928_11e9_b96b_78843cebb762row16_col16\" class=\"data row16 col16\" >1</td> \n",
       "        <td id=\"T_1ab8e4f4_2928_11e9_b96b_78843cebb762row16_col17\" class=\"data row16 col17\" >-0.1925</td> \n",
       "        <td id=\"T_1ab8e4f4_2928_11e9_b96b_78843cebb762row16_col18\" class=\"data row16 col18\" >-0.330594</td> \n",
       "    </tr>    <tr> \n",
       "        <th id=\"T_1ab8e4f4_2928_11e9_b96b_78843cebb762\" class=\"row_heading level0 row17\" >MonthlyCharges</th> \n",
       "        <td id=\"T_1ab8e4f4_2928_11e9_b96b_78843cebb762row17_col0\" class=\"data row17 col0\" >-0.0137793</td> \n",
       "        <td id=\"T_1ab8e4f4_2928_11e9_b96b_78843cebb762row17_col1\" class=\"data row17 col1\" >0.219874</td> \n",
       "        <td id=\"T_1ab8e4f4_2928_11e9_b96b_78843cebb762row17_col2\" class=\"data row17 col2\" >0.097825</td> \n",
       "        <td id=\"T_1ab8e4f4_2928_11e9_b96b_78843cebb762row17_col3\" class=\"data row17 col3\" >-0.112343</td> \n",
       "        <td id=\"T_1ab8e4f4_2928_11e9_b96b_78843cebb762row17_col4\" class=\"data row17 col4\" >0.246862</td> \n",
       "        <td id=\"T_1ab8e4f4_2928_11e9_b96b_78843cebb762row17_col5\" class=\"data row17 col5\" >0.248033</td> \n",
       "        <td id=\"T_1ab8e4f4_2928_11e9_b96b_78843cebb762row17_col6\" class=\"data row17 col6\" >0.490912</td> \n",
       "        <td id=\"T_1ab8e4f4_2928_11e9_b96b_78843cebb762row17_col7\" class=\"data row17 col7\" >-0.322173</td> \n",
       "        <td id=\"T_1ab8e4f4_2928_11e9_b96b_78843cebb762row17_col8\" class=\"data row17 col8\" >0.296447</td> \n",
       "        <td id=\"T_1ab8e4f4_2928_11e9_b96b_78843cebb762row17_col9\" class=\"data row17 col9\" >0.441529</td> \n",
       "        <td id=\"T_1ab8e4f4_2928_11e9_b96b_78843cebb762row17_col10\" class=\"data row17 col10\" >0.482607</td> \n",
       "        <td id=\"T_1ab8e4f4_2928_11e9_b96b_78843cebb762row17_col11\" class=\"data row17 col11\" >0.338301</td> \n",
       "        <td id=\"T_1ab8e4f4_2928_11e9_b96b_78843cebb762row17_col12\" class=\"data row17 col12\" >0.629668</td> \n",
       "        <td id=\"T_1ab8e4f4_2928_11e9_b96b_78843cebb762row17_col13\" class=\"data row17 col13\" >0.627235</td> \n",
       "        <td id=\"T_1ab8e4f4_2928_11e9_b96b_78843cebb762row17_col14\" class=\"data row17 col14\" >-0.0727386</td> \n",
       "        <td id=\"T_1ab8e4f4_2928_11e9_b96b_78843cebb762row17_col15\" class=\"data row17 col15\" >0.35193</td> \n",
       "        <td id=\"T_1ab8e4f4_2928_11e9_b96b_78843cebb762row17_col16\" class=\"data row17 col16\" >-0.1925</td> \n",
       "        <td id=\"T_1ab8e4f4_2928_11e9_b96b_78843cebb762row17_col17\" class=\"data row17 col17\" >1</td> \n",
       "        <td id=\"T_1ab8e4f4_2928_11e9_b96b_78843cebb762row17_col18\" class=\"data row17 col18\" >0.651065</td> \n",
       "    </tr>    <tr> \n",
       "        <th id=\"T_1ab8e4f4_2928_11e9_b96b_78843cebb762\" class=\"row_heading level0 row18\" >TotalCharges</th> \n",
       "        <td id=\"T_1ab8e4f4_2928_11e9_b96b_78843cebb762row18_col0\" class=\"data row18 col0\" >4.78395e-05</td> \n",
       "        <td id=\"T_1ab8e4f4_2928_11e9_b96b_78843cebb762row18_col1\" class=\"data row18 col1\" >0.102411</td> \n",
       "        <td id=\"T_1ab8e4f4_2928_11e9_b96b_78843cebb762row18_col2\" class=\"data row18 col2\" >0.319072</td> \n",
       "        <td id=\"T_1ab8e4f4_2928_11e9_b96b_78843cebb762row18_col3\" class=\"data row18 col3\" >0.0646532</td> \n",
       "        <td id=\"T_1ab8e4f4_2928_11e9_b96b_78843cebb762row18_col4\" class=\"data row18 col4\" >0.82588</td> \n",
       "        <td id=\"T_1ab8e4f4_2928_11e9_b96b_78843cebb762row18_col5\" class=\"data row18 col5\" >0.113008</td> \n",
       "        <td id=\"T_1ab8e4f4_2928_11e9_b96b_78843cebb762row18_col6\" class=\"data row18 col6\" >0.469042</td> \n",
       "        <td id=\"T_1ab8e4f4_2928_11e9_b96b_78843cebb762row18_col7\" class=\"data row18 col7\" >-0.175691</td> \n",
       "        <td id=\"T_1ab8e4f4_2928_11e9_b96b_78843cebb762row18_col8\" class=\"data row18 col8\" >0.412619</td> \n",
       "        <td id=\"T_1ab8e4f4_2928_11e9_b96b_78843cebb762row18_col9\" class=\"data row18 col9\" >0.5101</td> \n",
       "        <td id=\"T_1ab8e4f4_2928_11e9_b96b_78843cebb762row18_col10\" class=\"data row18 col10\" >0.522881</td> \n",
       "        <td id=\"T_1ab8e4f4_2928_11e9_b96b_78843cebb762row18_col11\" class=\"data row18 col11\" >0.432868</td> \n",
       "        <td id=\"T_1ab8e4f4_2928_11e9_b96b_78843cebb762row18_col12\" class=\"data row18 col12\" >0.515709</td> \n",
       "        <td id=\"T_1ab8e4f4_2928_11e9_b96b_78843cebb762row18_col13\" class=\"data row18 col13\" >0.519867</td> \n",
       "        <td id=\"T_1ab8e4f4_2928_11e9_b96b_78843cebb762row18_col14\" class=\"data row18 col14\" >0.450306</td> \n",
       "        <td id=\"T_1ab8e4f4_2928_11e9_b96b_78843cebb762row18_col15\" class=\"data row18 col15\" >0.15783</td> \n",
       "        <td id=\"T_1ab8e4f4_2928_11e9_b96b_78843cebb762row18_col16\" class=\"data row18 col16\" >-0.330594</td> \n",
       "        <td id=\"T_1ab8e4f4_2928_11e9_b96b_78843cebb762row18_col17\" class=\"data row18 col17\" >0.651065</td> \n",
       "        <td id=\"T_1ab8e4f4_2928_11e9_b96b_78843cebb762row18_col18\" class=\"data row18 col18\" >1</td> \n",
       "    </tr></tbody> \n",
       "</table> "
      ],
      "text/plain": [
       "<pandas.io.formats.style.Styler at 0x15c0ba20>"
      ]
     },
     "execution_count": 51,
     "metadata": {},
     "output_type": "execute_result"
    }
   ],
   "source": [
    "correlation=data.corr()\n",
    "correlation.style.background_gradient()"
   ]
  },
  {
   "cell_type": "code",
   "execution_count": 52,
   "metadata": {},
   "outputs": [
    {
     "data": {
      "text/plain": [
       "'\\nHeat map of correlation matrix\\n\\nplt.figure(figsize=(12, 12))\\nsns.heatmap(correlation, xticklabels=correlation.columns, yticklabels=correlation.columns, \\n                 linewidths=.2, cmap=sns.diverging_palette(255, 133, s=85, l=25, n=7))\\n'"
      ]
     },
     "execution_count": 52,
     "metadata": {},
     "output_type": "execute_result"
    }
   ],
   "source": [
    "\"\"\"\n",
    "Heat map of correlation matrix\n",
    "\n",
    "plt.figure(figsize=(12, 12))\n",
    "sns.heatmap(correlation, xticklabels=correlation.columns, yticklabels=correlation.columns, \n",
    "                 linewidths=.2, cmap=sns.diverging_palette(255, 133, s=85, l=25, n=7))\n",
    "\"\"\""
   ]
  },
  {
   "cell_type": "markdown",
   "metadata": {},
   "source": [
    "# Train & test data splitting"
   ]
  },
  {
   "cell_type": "code",
   "execution_count": 53,
   "metadata": {
    "collapsed": true
   },
   "outputs": [],
   "source": [
    "from sklearn.model_selection import train_test_split\n",
    "from sklearn.metrics import classification_report\n",
    "from sklearn.metrics import confusion_matrix\n",
    "from sklearn.metrics import accuracy_score"
   ]
  },
  {
   "cell_type": "code",
   "execution_count": 54,
   "metadata": {
    "collapsed": true
   },
   "outputs": [],
   "source": [
    "X_train, X_test, y_train, y_test = train_test_split(data.drop('Churn',axis=1), \n",
    "                                                    data['Churn'], test_size=0.30, \n",
    "                                                    random_state=101)"
   ]
  },
  {
   "cell_type": "markdown",
   "metadata": {},
   "source": [
    "# LogisticRegression classifier"
   ]
  },
  {
   "cell_type": "code",
   "execution_count": 55,
   "metadata": {
    "collapsed": true
   },
   "outputs": [],
   "source": [
    "from sklearn.linear_model import LogisticRegression"
   ]
  },
  {
   "cell_type": "code",
   "execution_count": 56,
   "metadata": {},
   "outputs": [
    {
     "data": {
      "text/plain": [
       "LogisticRegression(C=1.0, class_weight=None, dual=False, fit_intercept=True,\n",
       "          intercept_scaling=1, max_iter=100, multi_class='ovr', n_jobs=1,\n",
       "          penalty='l2', random_state=None, solver='liblinear', tol=0.0001,\n",
       "          verbose=0, warm_start=False)"
      ]
     },
     "execution_count": 56,
     "metadata": {},
     "output_type": "execute_result"
    }
   ],
   "source": [
    "logmodel = LogisticRegression()\n",
    "logmodel.fit(X_train,y_train)"
   ]
  },
  {
   "cell_type": "code",
   "execution_count": 57,
   "metadata": {
    "collapsed": true
   },
   "outputs": [],
   "source": [
    "log_predictions = logmodel.predict(X_test)"
   ]
  },
  {
   "cell_type": "code",
   "execution_count": 58,
   "metadata": {},
   "outputs": [
    {
     "name": "stdout",
     "output_type": "stream",
     "text": [
      "[[1396  184]\n",
      " [ 240  290]]\n"
     ]
    }
   ],
   "source": [
    "print(confusion_matrix(y_test,log_predictions))"
   ]
  },
  {
   "cell_type": "code",
   "execution_count": 59,
   "metadata": {},
   "outputs": [
    {
     "name": "stdout",
     "output_type": "stream",
     "text": [
      "             precision    recall  f1-score   support\n",
      "\n",
      "         No       0.85      0.88      0.87      1580\n",
      "        Yes       0.61      0.55      0.58       530\n",
      "\n",
      "avg / total       0.79      0.80      0.80      2110\n",
      "\n"
     ]
    }
   ],
   "source": [
    "print(classification_report(y_test,log_predictions))"
   ]
  },
  {
   "cell_type": "code",
   "execution_count": 60,
   "metadata": {},
   "outputs": [
    {
     "name": "stdout",
     "output_type": "stream",
     "text": [
      "0.7990521327014218\n"
     ]
    }
   ],
   "source": [
    "accuracy=accuracy_score(y_test,log_predictions)\n",
    "print(accuracy)"
   ]
  },
  {
   "cell_type": "markdown",
   "metadata": {},
   "source": [
    "# support vector machine classifier"
   ]
  },
  {
   "cell_type": "code",
   "execution_count": 61,
   "metadata": {
    "collapsed": true
   },
   "outputs": [],
   "source": [
    "from sklearn.svm import SVC"
   ]
  },
  {
   "cell_type": "code",
   "execution_count": 62,
   "metadata": {
    "collapsed": true
   },
   "outputs": [],
   "source": [
    "model = SVC()"
   ]
  },
  {
   "cell_type": "code",
   "execution_count": 63,
   "metadata": {
    "collapsed": true
   },
   "outputs": [],
   "source": [
    "from sklearn.model_selection import GridSearchCV"
   ]
  },
  {
   "cell_type": "code",
   "execution_count": 64,
   "metadata": {
    "collapsed": true
   },
   "outputs": [],
   "source": [
    "param_grid = {'C': [0.1,0.5, 1 ,5 , 10], 'gamma': [0.01,0.005, 0.001, 0.0005, 0.0001], 'kernel': ['rbf']}"
   ]
  },
  {
   "cell_type": "code",
   "execution_count": 65,
   "metadata": {},
   "outputs": [
    {
     "name": "stdout",
     "output_type": "stream",
     "text": [
      "Fitting 3 folds for each of 25 candidates, totalling 75 fits\n",
      "[CV] C=0.1, gamma=0.01, kernel=rbf ...................................\n",
      "[CV] .... C=0.1, gamma=0.01, kernel=rbf, score=0.744823, total=   2.4s\n",
      "[CV] C=0.1, gamma=0.01, kernel=rbf ...................................\n"
     ]
    },
    {
     "name": "stderr",
     "output_type": "stream",
     "text": [
      "[Parallel(n_jobs=1)]: Done   1 out of   1 | elapsed:    3.6s remaining:    0.0s\n"
     ]
    },
    {
     "name": "stdout",
     "output_type": "stream",
     "text": [
      "[CV] .... C=0.1, gamma=0.01, kernel=rbf, score=0.749390, total=   2.1s\n",
      "[CV] C=0.1, gamma=0.01, kernel=rbf ...................................\n"
     ]
    },
    {
     "name": "stderr",
     "output_type": "stream",
     "text": [
      "[Parallel(n_jobs=1)]: Done   2 out of   2 | elapsed:    6.8s remaining:    0.0s\n"
     ]
    },
    {
     "name": "stdout",
     "output_type": "stream",
     "text": [
      "[CV] .... C=0.1, gamma=0.01, kernel=rbf, score=0.754268, total=   2.1s\n",
      "[CV] C=0.1, gamma=0.005, kernel=rbf ..................................\n",
      "[CV] ... C=0.1, gamma=0.005, kernel=rbf, score=0.748477, total=   1.8s\n",
      "[CV] C=0.1, gamma=0.005, kernel=rbf ..................................\n",
      "[CV] ... C=0.1, gamma=0.005, kernel=rbf, score=0.749390, total=   1.8s\n",
      "[CV] C=0.1, gamma=0.005, kernel=rbf ..................................\n",
      "[CV] ... C=0.1, gamma=0.005, kernel=rbf, score=0.754878, total=   2.1s\n",
      "[CV] C=0.1, gamma=0.001, kernel=rbf ..................................\n",
      "[CV] ... C=0.1, gamma=0.001, kernel=rbf, score=0.759440, total=   1.3s\n",
      "[CV] C=0.1, gamma=0.001, kernel=rbf ..................................\n",
      "[CV] ... C=0.1, gamma=0.001, kernel=rbf, score=0.758537, total=   1.3s\n",
      "[CV] C=0.1, gamma=0.001, kernel=rbf ..................................\n",
      "[CV] ... C=0.1, gamma=0.001, kernel=rbf, score=0.761585, total=   1.3s\n",
      "[CV] C=0.1, gamma=0.0005, kernel=rbf .................................\n",
      "[CV] .. C=0.1, gamma=0.0005, kernel=rbf, score=0.761876, total=   1.2s\n",
      "[CV] C=0.1, gamma=0.0005, kernel=rbf .................................\n",
      "[CV] .. C=0.1, gamma=0.0005, kernel=rbf, score=0.759146, total=   1.3s\n",
      "[CV] C=0.1, gamma=0.0005, kernel=rbf .................................\n",
      "[CV] .. C=0.1, gamma=0.0005, kernel=rbf, score=0.764024, total=   1.2s\n",
      "[CV] C=0.1, gamma=0.0001, kernel=rbf .................................\n",
      "[CV] .. C=0.1, gamma=0.0001, kernel=rbf, score=0.753959, total=   1.1s\n",
      "[CV] C=0.1, gamma=0.0001, kernel=rbf .................................\n",
      "[CV] .. C=0.1, gamma=0.0001, kernel=rbf, score=0.763415, total=   1.1s\n",
      "[CV] C=0.1, gamma=0.0001, kernel=rbf .................................\n",
      "[CV] .. C=0.1, gamma=0.0001, kernel=rbf, score=0.760976, total=   1.0s\n",
      "[CV] C=0.5, gamma=0.01, kernel=rbf ...................................\n",
      "[CV] .... C=0.5, gamma=0.01, kernel=rbf, score=0.755786, total=   2.0s\n",
      "[CV] C=0.5, gamma=0.01, kernel=rbf ...................................\n",
      "[CV] .... C=0.5, gamma=0.01, kernel=rbf, score=0.759756, total=   2.2s\n",
      "[CV] C=0.5, gamma=0.01, kernel=rbf ...................................\n",
      "[CV] .... C=0.5, gamma=0.01, kernel=rbf, score=0.768293, total=   1.9s\n",
      "[CV] C=0.5, gamma=0.005, kernel=rbf ..................................\n",
      "[CV] ... C=0.5, gamma=0.005, kernel=rbf, score=0.764921, total=   1.8s\n",
      "[CV] C=0.5, gamma=0.005, kernel=rbf ..................................\n",
      "[CV] ... C=0.5, gamma=0.005, kernel=rbf, score=0.768293, total=   1.8s\n",
      "[CV] C=0.5, gamma=0.005, kernel=rbf ..................................\n",
      "[CV] ... C=0.5, gamma=0.005, kernel=rbf, score=0.776220, total=   1.8s\n",
      "[CV] C=0.5, gamma=0.001, kernel=rbf ..................................\n",
      "[CV] ... C=0.5, gamma=0.001, kernel=rbf, score=0.768575, total=   1.3s\n",
      "[CV] C=0.5, gamma=0.001, kernel=rbf ..................................\n",
      "[CV] ... C=0.5, gamma=0.001, kernel=rbf, score=0.770732, total=   1.4s\n",
      "[CV] C=0.5, gamma=0.001, kernel=rbf ..................................\n",
      "[CV] ... C=0.5, gamma=0.001, kernel=rbf, score=0.779878, total=   1.3s\n",
      "[CV] C=0.5, gamma=0.0005, kernel=rbf .................................\n",
      "[CV] .. C=0.5, gamma=0.0005, kernel=rbf, score=0.769793, total=   1.2s\n",
      "[CV] C=0.5, gamma=0.0005, kernel=rbf .................................\n",
      "[CV] .. C=0.5, gamma=0.0005, kernel=rbf, score=0.775610, total=   1.5s\n",
      "[CV] C=0.5, gamma=0.0005, kernel=rbf .................................\n",
      "[CV] .. C=0.5, gamma=0.0005, kernel=rbf, score=0.779878, total=   1.2s\n",
      "[CV] C=0.5, gamma=0.0001, kernel=rbf .................................\n",
      "[CV] .. C=0.5, gamma=0.0001, kernel=rbf, score=0.772838, total=   1.1s\n",
      "[CV] C=0.5, gamma=0.0001, kernel=rbf .................................\n",
      "[CV] .. C=0.5, gamma=0.0001, kernel=rbf, score=0.778659, total=   1.1s\n",
      "[CV] C=0.5, gamma=0.0001, kernel=rbf .................................\n",
      "[CV] .. C=0.5, gamma=0.0001, kernel=rbf, score=0.783537, total=   1.1s\n",
      "[CV] C=1, gamma=0.01, kernel=rbf .....................................\n",
      "[CV] ...... C=1, gamma=0.01, kernel=rbf, score=0.760658, total=   2.2s\n",
      "[CV] C=1, gamma=0.01, kernel=rbf .....................................\n",
      "[CV] ...... C=1, gamma=0.01, kernel=rbf, score=0.767073, total=   2.1s\n",
      "[CV] C=1, gamma=0.01, kernel=rbf .....................................\n",
      "[CV] ...... C=1, gamma=0.01, kernel=rbf, score=0.761585, total=   2.4s\n",
      "[CV] C=1, gamma=0.005, kernel=rbf ....................................\n",
      "[CV] ..... C=1, gamma=0.005, kernel=rbf, score=0.764312, total=   1.7s\n",
      "[CV] C=1, gamma=0.005, kernel=rbf ....................................\n",
      "[CV] ..... C=1, gamma=0.005, kernel=rbf, score=0.768902, total=   1.7s\n",
      "[CV] C=1, gamma=0.005, kernel=rbf ....................................\n",
      "[CV] ..... C=1, gamma=0.005, kernel=rbf, score=0.765854, total=   1.7s\n",
      "[CV] C=1, gamma=0.001, kernel=rbf ....................................\n",
      "[CV] ..... C=1, gamma=0.001, kernel=rbf, score=0.763094, total=   1.4s\n",
      "[CV] C=1, gamma=0.001, kernel=rbf ....................................\n",
      "[CV] ..... C=1, gamma=0.001, kernel=rbf, score=0.775000, total=   1.3s\n",
      "[CV] C=1, gamma=0.001, kernel=rbf ....................................\n",
      "[CV] ..... C=1, gamma=0.001, kernel=rbf, score=0.782927, total=   1.6s\n",
      "[CV] C=1, gamma=0.0005, kernel=rbf ...................................\n",
      "[CV] .... C=1, gamma=0.0005, kernel=rbf, score=0.769793, total=   1.2s\n",
      "[CV] C=1, gamma=0.0005, kernel=rbf ...................................\n",
      "[CV] .... C=1, gamma=0.0005, kernel=rbf, score=0.772561, total=   1.2s\n",
      "[CV] C=1, gamma=0.0005, kernel=rbf ...................................\n",
      "[CV] .... C=1, gamma=0.0005, kernel=rbf, score=0.782927, total=   1.2s\n",
      "[CV] C=1, gamma=0.0001, kernel=rbf ...................................\n",
      "[CV] .... C=1, gamma=0.0001, kernel=rbf, score=0.775274, total=   1.0s\n",
      "[CV] C=1, gamma=0.0001, kernel=rbf ...................................\n",
      "[CV] .... C=1, gamma=0.0001, kernel=rbf, score=0.784756, total=   1.0s\n",
      "[CV] C=1, gamma=0.0001, kernel=rbf ...................................\n",
      "[CV] .... C=1, gamma=0.0001, kernel=rbf, score=0.784756, total=   1.0s\n",
      "[CV] C=5, gamma=0.01, kernel=rbf .....................................\n",
      "[CV] ...... C=5, gamma=0.01, kernel=rbf, score=0.739342, total=   2.5s\n",
      "[CV] C=5, gamma=0.01, kernel=rbf .....................................\n",
      "[CV] ...... C=5, gamma=0.01, kernel=rbf, score=0.743293, total=   2.4s\n",
      "[CV] C=5, gamma=0.01, kernel=rbf .....................................\n",
      "[CV] ...... C=5, gamma=0.01, kernel=rbf, score=0.745732, total=   2.4s\n",
      "[CV] C=5, gamma=0.005, kernel=rbf ....................................\n",
      "[CV] ..... C=5, gamma=0.005, kernel=rbf, score=0.740560, total=   2.3s\n",
      "[CV] C=5, gamma=0.005, kernel=rbf ....................................\n",
      "[CV] ..... C=5, gamma=0.005, kernel=rbf, score=0.741463, total=   2.1s\n",
      "[CV] C=5, gamma=0.005, kernel=rbf ....................................\n",
      "[CV] ..... C=5, gamma=0.005, kernel=rbf, score=0.741463, total=   2.9s\n",
      "[CV] C=5, gamma=0.001, kernel=rbf ....................................\n",
      "[CV] ..... C=5, gamma=0.001, kernel=rbf, score=0.752741, total=   1.4s\n",
      "[CV] C=5, gamma=0.001, kernel=rbf ....................................\n",
      "[CV] ..... C=5, gamma=0.001, kernel=rbf, score=0.761585, total=   1.4s\n",
      "[CV] C=5, gamma=0.001, kernel=rbf ....................................\n",
      "[CV] ..... C=5, gamma=0.001, kernel=rbf, score=0.760366, total=   1.3s\n",
      "[CV] C=5, gamma=0.0005, kernel=rbf ...................................\n",
      "[CV] .... C=5, gamma=0.0005, kernel=rbf, score=0.762485, total=   1.3s\n",
      "[CV] C=5, gamma=0.0005, kernel=rbf ...................................\n",
      "[CV] .... C=5, gamma=0.0005, kernel=rbf, score=0.764634, total=   1.2s\n",
      "[CV] C=5, gamma=0.0005, kernel=rbf ...................................\n",
      "[CV] .... C=5, gamma=0.0005, kernel=rbf, score=0.772561, total=   1.3s\n",
      "[CV] C=5, gamma=0.0001, kernel=rbf ...................................\n",
      "[CV] .... C=5, gamma=0.0001, kernel=rbf, score=0.777710, total=   1.2s\n",
      "[CV] C=5, gamma=0.0001, kernel=rbf ...................................\n",
      "[CV] .... C=5, gamma=0.0001, kernel=rbf, score=0.782927, total=   1.2s\n",
      "[CV] C=5, gamma=0.0001, kernel=rbf ...................................\n",
      "[CV] .... C=5, gamma=0.0001, kernel=rbf, score=0.787195, total=   1.1s\n",
      "[CV] C=10, gamma=0.01, kernel=rbf ....................................\n"
     ]
    },
    {
     "name": "stdout",
     "output_type": "stream",
     "text": [
      "[CV] ..... C=10, gamma=0.01, kernel=rbf, score=0.741169, total=   2.6s\n",
      "[CV] C=10, gamma=0.01, kernel=rbf ....................................\n",
      "[CV] ..... C=10, gamma=0.01, kernel=rbf, score=0.733537, total=   2.5s\n",
      "[CV] C=10, gamma=0.01, kernel=rbf ....................................\n",
      "[CV] ..... C=10, gamma=0.01, kernel=rbf, score=0.747561, total=   2.3s\n",
      "[CV] C=10, gamma=0.005, kernel=rbf ...................................\n",
      "[CV] .... C=10, gamma=0.005, kernel=rbf, score=0.733252, total=   2.4s\n",
      "[CV] C=10, gamma=0.005, kernel=rbf ...................................\n",
      "[CV] .... C=10, gamma=0.005, kernel=rbf, score=0.729268, total=   2.3s\n",
      "[CV] C=10, gamma=0.005, kernel=rbf ...................................\n",
      "[CV] .... C=10, gamma=0.005, kernel=rbf, score=0.734756, total=   2.1s\n",
      "[CV] C=10, gamma=0.001, kernel=rbf ...................................\n",
      "[CV] .... C=10, gamma=0.001, kernel=rbf, score=0.753959, total=   1.4s\n",
      "[CV] C=10, gamma=0.001, kernel=rbf ...................................\n",
      "[CV] .... C=10, gamma=0.001, kernel=rbf, score=0.758537, total=   1.4s\n",
      "[CV] C=10, gamma=0.001, kernel=rbf ...................................\n",
      "[CV] .... C=10, gamma=0.001, kernel=rbf, score=0.753049, total=   1.4s\n",
      "[CV] C=10, gamma=0.0005, kernel=rbf ..................................\n",
      "[CV] ... C=10, gamma=0.0005, kernel=rbf, score=0.763094, total=   1.6s\n",
      "[CV] C=10, gamma=0.0005, kernel=rbf ..................................\n",
      "[CV] ... C=10, gamma=0.0005, kernel=rbf, score=0.760976, total=   1.3s\n",
      "[CV] C=10, gamma=0.0005, kernel=rbf ..................................\n",
      "[CV] ... C=10, gamma=0.0005, kernel=rbf, score=0.768293, total=   1.3s\n",
      "[CV] C=10, gamma=0.0001, kernel=rbf ..................................\n",
      "[CV] ... C=10, gamma=0.0001, kernel=rbf, score=0.779537, total=   1.2s\n",
      "[CV] C=10, gamma=0.0001, kernel=rbf ..................................\n",
      "[CV] ... C=10, gamma=0.0001, kernel=rbf, score=0.775000, total=   1.2s\n",
      "[CV] C=10, gamma=0.0001, kernel=rbf ..................................\n",
      "[CV] ... C=10, gamma=0.0001, kernel=rbf, score=0.784756, total=   1.2s\n"
     ]
    },
    {
     "name": "stderr",
     "output_type": "stream",
     "text": [
      "[Parallel(n_jobs=1)]: Done  75 out of  75 | elapsed:  3.1min finished\n"
     ]
    },
    {
     "data": {
      "text/plain": [
       "{'C': 5, 'gamma': 0.0001, 'kernel': 'rbf'}"
      ]
     },
     "execution_count": 65,
     "metadata": {},
     "output_type": "execute_result"
    }
   ],
   "source": [
    "grid = GridSearchCV(SVC(),param_grid,refit=True,verbose=3)\n",
    "grid.fit(X_train,y_train)\n",
    "grid.best_params_"
   ]
  },
  {
   "cell_type": "code",
   "execution_count": 66,
   "metadata": {
    "collapsed": true
   },
   "outputs": [],
   "source": [
    "grid_predictions = grid.predict(X_test)"
   ]
  },
  {
   "cell_type": "code",
   "execution_count": 67,
   "metadata": {},
   "outputs": [
    {
     "name": "stdout",
     "output_type": "stream",
     "text": [
      "[[1453  127]\n",
      " [ 311  219]]\n",
      "             precision    recall  f1-score   support\n",
      "\n",
      "         No       0.82      0.92      0.87      1580\n",
      "        Yes       0.63      0.41      0.50       530\n",
      "\n",
      "avg / total       0.78      0.79      0.78      2110\n",
      "\n"
     ]
    }
   ],
   "source": [
    "print(confusion_matrix(y_test,grid_predictions))\n",
    "print(classification_report(y_test,grid_predictions))"
   ]
  },
  {
   "cell_type": "code",
   "execution_count": 68,
   "metadata": {},
   "outputs": [
    {
     "name": "stdout",
     "output_type": "stream",
     "text": [
      "0.7924170616113744\n"
     ]
    }
   ],
   "source": [
    "accuracy=accuracy_score(y_test,grid_predictions)\n",
    "print(accuracy)"
   ]
  },
  {
   "cell_type": "markdown",
   "metadata": {},
   "source": [
    "# Decision tree"
   ]
  },
  {
   "cell_type": "code",
   "execution_count": 69,
   "metadata": {},
   "outputs": [
    {
     "data": {
      "text/plain": [
       "DecisionTreeClassifier(class_weight=None, criterion='gini', max_depth=None,\n",
       "            max_features=None, max_leaf_nodes=None,\n",
       "            min_impurity_split=1e-07, min_samples_leaf=1,\n",
       "            min_samples_split=2, min_weight_fraction_leaf=0.0,\n",
       "            presort=False, random_state=None, splitter='best')"
      ]
     },
     "execution_count": 69,
     "metadata": {},
     "output_type": "execute_result"
    }
   ],
   "source": [
    "from sklearn.tree import DecisionTreeClassifier\n",
    "dtree = DecisionTreeClassifier()\n",
    "dtree.fit(X_train,y_train)"
   ]
  },
  {
   "cell_type": "code",
   "execution_count": 70,
   "metadata": {},
   "outputs": [
    {
     "name": "stdout",
     "output_type": "stream",
     "text": [
      "[[1264  316]\n",
      " [ 268  262]]\n"
     ]
    }
   ],
   "source": [
    "predictions_tree = dtree.predict(X_test)\n",
    "print(confusion_matrix(y_test,predictions_tree))"
   ]
  },
  {
   "cell_type": "code",
   "execution_count": 71,
   "metadata": {},
   "outputs": [
    {
     "data": {
      "text/plain": [
       "0.7232227488151659"
      ]
     },
     "execution_count": 71,
     "metadata": {},
     "output_type": "execute_result"
    }
   ],
   "source": [
    "accuracy=accuracy_score(y_test,predictions_tree)\n",
    "accuracy"
   ]
  },
  {
   "cell_type": "markdown",
   "metadata": {},
   "source": [
    "# Random forest model"
   ]
  },
  {
   "cell_type": "code",
   "execution_count": 72,
   "metadata": {},
   "outputs": [
    {
     "name": "stderr",
     "output_type": "stream",
     "text": [
      "C:\\Users\\Ramesh\\Anaconda3_1\\lib\\site-packages\\sklearn\\ensemble\\weight_boosting.py:29: DeprecationWarning: numpy.core.umath_tests is an internal NumPy module and should not be imported. It will be removed in a future NumPy release.\n",
      "  from numpy.core.umath_tests import inner1d\n"
     ]
    }
   ],
   "source": [
    "from sklearn.ensemble import RandomForestClassifier\n",
    "rfc = RandomForestClassifier(n_estimators=100)\n",
    "rfc_model=rfc.fit(X_train, y_train)"
   ]
  },
  {
   "cell_type": "code",
   "execution_count": 73,
   "metadata": {},
   "outputs": [
    {
     "name": "stdout",
     "output_type": "stream",
     "text": [
      "[[1403  177]\n",
      " [ 262  268]]\n"
     ]
    }
   ],
   "source": [
    "rfc_pred = rfc.predict(X_test)\n",
    "print(confusion_matrix(y_test,rfc_pred))"
   ]
  },
  {
   "cell_type": "code",
   "execution_count": 75,
   "metadata": {},
   "outputs": [
    {
     "data": {
      "image/png": "[encoded data removed]",
      "text/plain": [
       "<matplotlib.figure.Figure at 0x12037240>"
      ]
     },
     "metadata": {},
     "output_type": "display_data"
    }
   ],
   "source": [
    "imp = pd.Series(rfc_model.feature_importances_, index=X_train.columns).sort_values(ascending=False)\n",
    "plt.figure(figsize=(10,12))\n",
    "plt.title(\"Feature importance\")\n",
    "ax = sns.barplot(y=imp.index, x=imp.values, orient='h')"
   ]
  },
  {
   "cell_type": "code",
   "execution_count": 76,
   "metadata": {},
   "outputs": [
    {
     "data": {
      "text/plain": [
       "0.7919431279620853"
      ]
     },
     "execution_count": 76,
     "metadata": {},
     "output_type": "execute_result"
    }
   ],
   "source": [
    "accuracy=accuracy_score(y_test,rfc_pred)\n",
    "accuracy"
   ]
  },
  {
   "cell_type": "code",
   "execution_count": 77,
   "metadata": {},
   "outputs": [
    {
     "name": "stdout",
     "output_type": "stream",
     "text": [
      "[[1403  177]\n",
      " [ 262  268]]\n",
      "             precision    recall  f1-score   support\n",
      "\n",
      "         No       0.84      0.89      0.86      1580\n",
      "        Yes       0.60      0.51      0.55       530\n",
      "\n",
      "avg / total       0.78      0.79      0.79      2110\n",
      "\n"
     ]
    }
   ],
   "source": [
    "print(confusion_matrix(y_test,rfc_pred))\n",
    "print(classification_report(y_test,rfc_pred))"
   ]
  },
  {
   "cell_type": "code",
   "execution_count": null,
   "metadata": {
    "collapsed": true
   },
   "outputs": [],
   "source": []
  },
  {
   "cell_type": "code",
   "execution_count": null,
   "metadata": {
    "collapsed": true
   },
   "outputs": [],
   "source": []
  }
 ],
 "metadata": {
  "kernelspec": {
   "display_name": "Python 3",
   "language": "python",
   "name": "python3"
  },
  "language_info": {
   "codemirror_mode": {
    "name": "ipython",
    "version": 3
   },
   "file_extension": ".py",
   "mimetype": "text/x-python",
   "name": "python",
   "nbconvert_exporter": "python",
   "pygments_lexer": "ipython3",
   "version": "3.6.1"
  }
 },
 "nbformat": 4,
 "nbformat_minor": 2
}
